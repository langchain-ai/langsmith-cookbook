{
 "cells": [
  {
   "cell_type": "markdown",
   "metadata": {},
   "source": [
    "# Vision-based Evals in JavaScript\n",
    "\n",
    "LangSmith's support for custom evaluators grants you great flexibility with checking your chains against datasets. One exciting possibility for certain visual generative use cases is prompting vision models to determine success.\n",
    "\n",
    "This notebook will walk through an example of refining a chain that generates HTML pages. We'll create a custom evaluator that first renders the outputs using a headless browser called [Puppeteer](https://pptr.dev/), passes the screenshots to OpenAI's GPT-4V, and returns a score. Let's dive in!\n",
    "\n",
    "## Prerequisites\n",
    "\n",
    "This tutorial uses OpenAI models and LangChain to compose the chain. To make sure the tracing and evals are set up for [LangSmith](https://smith.langchain.com), please configure your API keys appropriately.\n",
    "\n",
    "This notebook will use the [Deno](https://deno.com/), so you'll need to [download and set it up](https://docs.deno.com/runtime/manual) in order to follow along. However, the principles and general steps of the guide apply to other JavaScript runtimes as well.\n",
    "\n",
    "## Setup\n",
    "\n",
    "To begin, let's set up our Chrome Puppeteer binary. This is what we'll use to render HTML and take screenshots of our chain's generations. Run the following command in your terminal from this path:"
   ]
  },
  {
   "cell_type": "raw",
   "metadata": {},
   "source": [
    "$ PUPPETEER_PRODUCT=chrome deno run -A --unstable https://deno.land/x/puppeteer@16.2.0/install.ts"
   ]
  },
  {
   "cell_type": "markdown",
   "metadata": {},
   "source": [
    "Next, make sure you've set up a `.env` file with your OpenAI key set as `OPENAI_API_KEY` and your LangSmith API key set as `LANGCHAIN_API_KEY`. Additionally, you should set `LANGCHAIN_TRACING_V2=true` to enable tracing."
   ]
  },
  {
   "cell_type": "code",
   "execution_count": 1,
   "metadata": {},
   "outputs": [
    {
     "data": {
      "text/plain": [
       "[Module: null prototype] { default: {} }"
      ]
     },
     "execution_count": 1,
     "metadata": {},
     "output_type": "execute_result"
    }
   ],
   "source": [
    "import \"dotenv/config\";"
   ]
  },
  {
   "cell_type": "markdown",
   "metadata": {},
   "source": [
    "Next, let's set up a simple, naive chain that will generate HTML given some input:"
   ]
  },
  {
   "cell_type": "code",
   "execution_count": 2,
   "metadata": {},
   "outputs": [],
   "source": [
    "import { ChatPromptTemplate } from \"@langchain/core/prompts\";\n",
    "import { ChatOpenAI } from \"@langchain/openai\";\n",
    "import { StringOutputParser } from \"@langchain/core/output_parsers\";\n",
    "\n",
    "const prompt = ChatPromptTemplate.fromTemplate(`Generate an HTML for a webpage implementing the following. Do not return anything other than valid HTML.\\n\\n{input}`);\n",
    "const model = new ChatOpenAI({ temperature: 0 });\n",
    "\n",
    "const chain = prompt.pipe(model).pipe(new StringOutputParser());"
   ]
  },
  {
   "cell_type": "code",
   "execution_count": 3,
   "metadata": {},
   "outputs": [
    {
     "data": {
      "text/plain": [
       "\u001b[32m\"<!DOCTYPE html>\\n\"\u001b[39m +\n",
       "  \u001b[32m\"<html>\\n\"\u001b[39m +\n",
       "  \u001b[32m\"<head>\\n\"\u001b[39m +\n",
       "  \u001b[32m\"  <title>Tax Calculator</title>\\n\"\u001b[39m +\n",
       "  \u001b[32m\"</head>\\n\"\u001b[39m +\n",
       "  \u001b[32m\"<body>\\n\"\u001b[39m +\n",
       "  \u001b[32m\"  <h1>Tax Calculator</h\"\u001b[39m... 762 more characters"
      ]
     },
     "execution_count": 3,
     "metadata": {},
     "output_type": "execute_result"
    }
   ],
   "source": [
    "const html = await chain.invoke({\n",
    "  input: \"a tax calculator\",\n",
    "});\n",
    "\n",
    "html"
   ]
  },
  {
   "cell_type": "markdown",
   "metadata": {},
   "source": [
    "Now let's define a function that uses Puppeteer to render that HTML output as an image:"
   ]
  },
  {
   "cell_type": "code",
   "execution_count": 4,
   "metadata": {},
   "outputs": [],
   "source": [
    "import puppeteer from \"puppeteer\";\n",
    "\n",
    "async function renderHtml(html) {\n",
    "  const browser = await puppeteer.launch();\n",
    "  const page = await browser.newPage();\n",
    "  // Set the page content to our HTML.\n",
    "  // Puppeteer can also navigate to websites - for more options see https://pptr.dev\n",
    "  await page.setContent(html);\n",
    "  const screenshot = await page.screenshot({ encoding: \"base64\" });\n",
    "\n",
    "  await browser.close();\n",
    "  return screenshot;\n",
    "}"
   ]
  },
  {
   "cell_type": "code",
   "execution_count": 5,
   "metadata": {},
   "outputs": [],
   "source": [
    "const image = await renderHtml(html);"
   ]
  },
  {
   "cell_type": "code",
   "execution_count": 6,
   "metadata": {},
   "outputs": [
    {
     "data": {
      "image/jpeg": "[encoded data removed]"
     },
     "metadata": {},
     "output_type": "display_data"
    }
   ],
   "source": [
    "import { display } from \"https://deno.land/x/display/mod.ts\";\n",
    "\n",
    "await display({ \n",
    "  \"image/jpeg\": image,\n",
    "}, { raw: true });"
   ]
  },
  {
   "cell_type": "markdown",
   "metadata": {},
   "source": [
    "Sweet! Now, let's create a LangSmith dataset. These are input/output pairs where the input is an example input to our chain, and the output is an ideal generation your chain to create in response to that input.\n",
    "\n",
    "For this demo notebook, we'll quickly generate reference examples using the direct output of the chain we're evaluating. In a real-world situation, you would want to use the best quality examples you can for your reference outputs, either curated by hand or using the best model possible."
   ]
  },
  {
   "cell_type": "code",
   "execution_count": 7,
   "metadata": {},
   "outputs": [],
   "source": [
    "const inputs = [\n",
    "  { input: \"a tax calculator\" },\n",
    "  { input: \"a social media website for sharing photos\" },\n",
    "  { input: \"an e-commerce startup landing page\" },\n",
    "];\n",
    "\n",
    "const results = await chain.batch(inputs);\n",
    "\n",
    "const referenceOutputs = results.map((result) => {\n",
    "  return { output: result };\n",
    "});"
   ]
  },
  {
   "cell_type": "code",
   "execution_count": 8,
   "metadata": {},
   "outputs": [
    {
     "data": {
      "text/plain": [
       "[ \u001b[90mundefined\u001b[39m, \u001b[90mundefined\u001b[39m, \u001b[90mundefined\u001b[39m ]"
      ]
     },
     "execution_count": 8,
     "metadata": {},
     "output_type": "execute_result"
    }
   ],
   "source": [
    "import { Client } from \"langsmith\";\n",
    "\n",
    "const client = new Client();\n",
    "\n",
    "const datasetName = `lcjs-vision-eval-demo-${new Date().toISOString()}`;\n",
    "const dataset = await client.createDataset(datasetName);\n",
    "\n",
    "await Promise.all(\n",
    "  inputs.map(async (input, i) => {\n",
    "    await client.createExample(input, referenceOutputs[i], {\n",
    "      datasetId: dataset.id,\n",
    "    });\n",
    "  })\n",
    ");"
   ]
  },
  {
   "cell_type": "markdown",
   "metadata": {},
   "source": [
    "You can log into https://smith.langchain.com/datasets to see the newly created dataset.\n",
    "\n",
    "Now, let's combine this with a vision model in a custom evaluator function. Custom evaluators take a few parameters, defined in the type `DynamicRunEvaluatorParams`. These include:\n",
    "\n",
    "- `input`: The raw input from the dataset used to call the chain.\n",
    "- `prediction`: The raw output from the chain.\n",
    "- `reference`: The raw reference output from our compiled dataset.\n",
    "- `run`: Raw metadata from the chain run that the evaluator is acting on.\n",
    "- `example`: The full raw example from the dataset.\n",
    "\n",
    "`input`, `prediction`, and `reference` are all present on the raw `run` and `example` objects. They are parsed out for your convenience.\n",
    "\n",
    "Here's what this might look like:"
   ]
  },
  {
   "cell_type": "code",
   "execution_count": 9,
   "metadata": {},
   "outputs": [],
   "source": [
    "import type { DynamicRunEvaluatorParams } from \"langchain/smith\";\n",
    "import type { RunnableConfig } from \"@langchain/core/runnables\";\n",
    "import { HumanMessage } from \"@langchain/core/messages\";\n",
    "\n",
    "const visionBasedEvaluator = async (\n",
    "  {\n",
    "    run,\n",
    "    example,\n",
    "    input,\n",
    "    prediction,\n",
    "    reference,\n",
    "  }: DynamicRunEvaluatorParams, \n",
    "  options: { config: RunnableConfig }\n",
    ") => {\n",
    "  if (typeof prediction?.output !== \"string\") {\n",
    "    throw new Error(\n",
    "      \"Invalid prediction format for this evaluator. Please check your chain's outputs and try again.\"\n",
    "    );\n",
    "  }\n",
    "  const imageBase64 = await renderHtml(prediction.output);\n",
    "  const visionModel = new ChatOpenAI({\n",
    "    modelName: \"gpt-4-vision-preview\",\n",
    "    temperature: 0,\n",
    "    maxTokens: 2000,\n",
    "  });\n",
    "  const visionEvaluatorChain = visionModel.pipe(new StringOutputParser());\n",
    "  // Simple evaluation prompt, tweak for your use case.\n",
    "  const chainInputMessage = new HumanMessage({\n",
    "    content: [\n",
    "      {\n",
    "        type: \"text\",\n",
    "        text: `An AI model was asked to generate \"${input.input}\", and responded with the following image.\n",
    "        Please assign the image a score between 0 and 10 based on quality and faithfulness to \"${input.input}\" where 0 is completely off target\n",
    "        and 10 is an exact representation of what was desired.\n",
    "\n",
    "        Do not return anything other than a number`,\n",
    "      },\n",
    "      {\n",
    "        type: \"image_url\",\n",
    "        image_url: {\n",
    "          url: `data:image/jpeg;base64,${imageBase64}`,\n",
    "        },\n",
    "      },\n",
    "    ]\n",
    "  });\n",
    "\n",
    "  const response = await visionEvaluatorChain.invoke([\n",
    "    chainInputMessage\n",
    "  ], options.config);\n",
    "\n",
    "  const score = parseInt(response, 10);\n",
    "\n",
    "  return {\n",
    "    key: \"visual_generation_quality\",\n",
    "    score: score / 10,\n",
    "    comment: response,\n",
    "  };\n",
    "};"
   ]
  },
  {
   "cell_type": "markdown",
   "metadata": {},
   "source": [
    "For the demo, we aren't using the reference outputs since they are just previous runs of the same chain. In a real-world situation, you might want to have the evaluator take the reference output into account when generating a score.\n",
    "\n",
    "And now, the final step is to run our chain on our dataset and evaluate it with our new custom evaluator. Here's how that looks:"
   ]
  },
  {
   "cell_type": "code",
   "execution_count": 10,
   "metadata": {},
   "outputs": [
    {
     "name": "stdout",
     "output_type": "stream",
     "text": [
      "Predicting: ▓▓▓▓▓▓▓▓▓▓▓▓▓▓▓▓▓▓▓▓▓▓▓▓▓▓▓▓▓▓▓▓▓▓▓▓▓▓▓▓ 100.00% | 3/3\n",
      "\n",
      "Completed\n",
      "Running Evaluators: ▓▓▓▓▓▓▓▓▓▓▓▓▓░░░░░░░░░░░░░░░░░░░░░░░░░░░ 33.33% | 1/3\n",
      "\n",
      "Running Evaluators: ▓▓▓▓▓▓▓▓▓▓▓▓▓▓▓▓▓▓▓▓▓▓▓▓▓▓▓░░░░░░░░░░░░░ 66.67% | 2/3\n",
      "\n",
      "Running Evaluators: ▓▓▓▓▓▓▓▓▓▓▓▓▓▓▓▓▓▓▓▓▓▓▓▓▓▓▓▓▓▓▓▓▓▓▓▓▓▓▓▓ 100.00% | 3/3\n",
      "\n"
     ]
    }
   ],
   "source": [
    "import { runOnDataset } from \"langchain/smith\";\n",
    "\n",
    "const finalResults = await runOnDataset(chain, datasetName, {\n",
    "  evaluationConfig: {\n",
    "    customEvaluators: [visionBasedEvaluator]\n",
    "  },\n",
    "});"
   ]
  },
  {
   "cell_type": "markdown",
   "metadata": {},
   "source": [
    "And now if you go back to https://smith.langchain.com/datasets and look at your dataset, you should see a populated test run!\n",
    "\n",
    "Clicking into the test run, you'll see the chain input, the chain output, and the reference output. You'll also see the score the `visionBasedEvaluator` returned above:\n",
    "\n",
    "![](./img/test_run.png)"
   ]
  },
  {
   "cell_type": "markdown",
   "metadata": {},
   "source": [
    "## Conclusion\n",
    "\n",
    "And that's it! You've set up a vision evaluator based powered by GPT-4V and Puppeteer.\n",
    "\n",
    "For further reading, check out the following guides:\n",
    "\n",
    "- [JS LangSmith walkthrough](https://js.langchain.com/docs/guides/langsmith_evaluation)\n",
    "- [Evaluation quickstart](https://docs.smith.langchain.com/evaluation/quickstart)"
   ]
  }
 ],
 "metadata": {
  "kernelspec": {
   "display_name": "Deno",
   "language": "typescript",
   "name": "deno"
  },
  "language_info": {
   "file_extension": ".ts",
   "mimetype": "text/x.typescript",
   "name": "typescript",
   "nb_converter": "script",
   "pygments_lexer": "typescript",
   "version": "5.2.2"
  }
 },
 "nbformat": 4,
 "nbformat_minor": 4
}
