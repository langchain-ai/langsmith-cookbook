{
 "cells": [
  {
   "cell_type": "markdown",
   "id": "0259c56c-701d-4917-a4ba-a351f48da8f4",
   "metadata": {},
   "source": [
    "# Customizing Run Names\n",
    "[![Open In Collab](https://colab.research.google.com/assets/colab-badge.svg)](https://colab.research.google.com/github/langchain-ai/langsmith-cookbook/blob/main/tracing-examples/runnable-naming/run-naming.ipynb)\n",
    "\n",
    "Every LangSmith run receives a name. This name is visible in the UI and can be employed later for querying a particular run. In the context of tracing chains constructed with LangChain, the default run name is derived from the class name of the invoked object.\n",
    "\n",
    "For runs categorized as \"Chain\", the name can be configured by calling the [runnable](https://python.langchain.com/docs/expression_language/) object's `with_config({\"run_name\": \"My Run Name\"})` method. This guide illustrates its application through several examples.\n",
    "\n",
    "**Note:** Only chains and general runnables support custom naming; LLMs, chat models, prompts, and retrievers do not.\n",
    "\n",
    "Begin by installing the latest version of LangChain.\n"
   ]
  },
  {
   "cell_type": "code",
   "execution_count": 1,
   "id": "2c2450c9-851a-4c02-add8-a0ec26ee20ec",
   "metadata": {
    "tags": []
   },
   "outputs": [],
   "source": [
    "# %pip install -U langchain --quiet"
   ]
  },
  {
   "cell_type": "code",
   "execution_count": 1,
   "id": "550f888774360550",
   "metadata": {
    "collapsed": false,
    "jupyter": {
     "outputs_hidden": false
    }
   },
   "outputs": [],
   "source": [
    "import os\n",
    "\n",
    "# Update with your API URL if using a hosted instance of Langsmith.\n",
    "os.environ[\"LANGCHAIN_ENDPOINT\"] = \"https://api.smith.langchain.com\"\n",
    "os.environ[\"LANGCHAIN_API_KEY\"] = \"YOUR API KEY\"  # Update with your API key\n",
    "os.environ[\"LANGCHAIN_TRACING_V2\"] = \"true\"\n",
    "project_name = \"YOUR PROJECT NAME\"  # Update with your project name\n",
    "os.environ[\"LANGCHAIN_PROJECT\"] = project_name  # Optional: \"default\" is used if not set"
   ]
  },
  {
   "cell_type": "code",
   "execution_count": 2,
   "id": "2d6f21f4-dcb1-41c8-9bd9-16ae2cb6a7d2",
   "metadata": {},
   "outputs": [],
   "source": [
    "from langsmith import Client\n",
    "\n",
    "client = Client()"
   ]
  },
  {
   "cell_type": "markdown",
   "id": "fb4b91ae-4d7c-4119-8eca-aec3aa9e9cd5",
   "metadata": {},
   "source": [
    "## Example 1: Simple Chain"
   ]
  },
  {
   "cell_type": "code",
   "execution_count": 3,
   "id": "07cf5602-ddd0-4d88-9b63-dee3be2f3356",
   "metadata": {
    "tags": []
   },
   "outputs": [
    {
     "name": "stderr",
     "output_type": "stream",
     "text": [
      "/Users/mukilloganathan/langchain/venv/lib/python3.11/site-packages/langchain_core/_api/deprecation.py:117: LangChainDeprecationWarning: The class `langchain_community.chat_models.openai.ChatOpenAI` was deprecated in langchain-community 0.0.10 and will be removed in 0.2.0. An updated version of the class exists in the langchain-openai package and should be used instead. To use it run `pip install -U langchain-openai` and import as `from langchain_openai import ChatOpenAI`.\n",
      "  warn_deprecated(\n"
     ]
    },
    {
     "name": "stdout",
     "output_type": "stream",
     "text": [
      "🌕🌔🌓🌒🌑"
     ]
    }
   ],
   "source": [
    "from langchain import chat_models, prompts, callbacks, schema\n",
    "\n",
    "chain = (\n",
    "    prompts.ChatPromptTemplate.from_template(\"Reverse the following string: {text}\")\n",
    "    | chat_models.ChatOpenAI()\n",
    ").with_config({\"run_name\": \"StringReverse\"})\n",
    "\n",
    "\n",
    "with callbacks.collect_runs() as cb:\n",
    "    for chunk in chain.stream({\"text\": \"🌑🌒🌓🌔🌕\"}):\n",
    "        print(chunk.content, flush=True, end=\"\")\n",
    "    run = cb.traced_runs[0]"
   ]
  },
  {
   "cell_type": "markdown",
   "id": "8dc0417a-1091-4602-a090-82dfa082ba67",
   "metadata": {},
   "source": [
    "This will result in a trace that looks something like the following:\n",
    "\n",
    "[![StringReverse](./img/moon_reverse.png)](https://smith.langchain.com/public/6fffe5a8-2561-4a73-bb7a-e40bc966ba33/r)\n",
    "\n",
    "If you inspect the run object, you can see the run name is now \"StringReverse\". You can query within a project for runs with this name to see all the times this chain was used. Do so using the filter syntax `eq(name, \"MyRunName\")`."
   ]
  },
  {
   "cell_type": "code",
   "execution_count": 4,
   "id": "8ead4436-4af9-4c45-a09a-f46ba84ff222",
   "metadata": {
    "tags": []
   },
   "outputs": [
    {
     "name": "stdout",
     "output_type": "stream",
     "text": [
      "Saved name StringReverse\n"
     ]
    }
   ],
   "source": [
    "print(f\"Saved name {run.name}\")"
   ]
  },
  {
   "cell_type": "code",
   "execution_count": 5,
   "id": "2b88adb8-8b25-418c-a9d0-9bfaed1c4888",
   "metadata": {
    "tags": []
   },
   "outputs": [
    {
     "data": {
      "text/plain": [
       "Run(id=UUID('1960c94c-f860-4403-a1bd-3ebdd29099e0'), name='StringReverse', start_time=datetime.datetime(2024, 2, 13, 2, 33, 19, 580185), run_type='chain', end_time=datetime.datetime(2024, 2, 13, 2, 33, 20, 427903), extra={'runtime': {'sdk': 'langsmith-py', 'sdk_version': '0.0.87', 'library': 'langchain-core', 'platform': 'macOS-14.0-arm64-arm-64bit', 'runtime': 'python', 'py_implementation': 'CPython', 'runtime_version': '3.11.5', 'langchain_version': '0.1.6', 'thread_count': 15.0, 'mem': {'rss': 71892992.0}, 'cpu': {'time': {'sys': 2.74464128, 'user': 1.438423424}, 'ctx_switches': {'voluntary': 12209.0, 'involuntary': 0.0}, 'percent': 0.0}, 'library_version': '0.1.22'}, 'metadata': {}}, error=None, serialized={'id': ['langchain', 'schema', 'runnable', 'RunnableSequence'], 'kwargs': {'first': {'id': ['langchain', 'prompts', 'chat', 'ChatPromptTemplate'], 'kwargs': {'input_variables': ['text'], 'messages': [{'id': ['langchain', 'prompts', 'chat', 'HumanMessagePromptTemplate'], 'kwargs': {'prompt': {'id': ['langchain', 'prompts', 'prompt', 'PromptTemplate'], 'kwargs': {'input_variables': ['text'], 'partial_variables': {}, 'template': 'Reverse the following string: {text}', 'template_format': 'f-string'}, 'lc': 1, 'type': 'constructor'}}, 'lc': 1, 'type': 'constructor'}], 'partial_variables': {}}, 'lc': 1, 'type': 'constructor'}, 'last': {'id': ['langchain', 'chat_models', 'openai', 'ChatOpenAI'], 'kwargs': {'openai_api_key': {'id': ['OPENAI_API_KEY'], 'lc': 1, 'type': 'secret'}}, 'lc': 1, 'type': 'constructor'}, 'middle': [], 'name': None}, 'lc': 1, 'type': 'constructor'}, events=[{'name': 'start', 'time': '2024-02-13T02:33:19.580185+00:00'}, {'name': 'end', 'time': '2024-02-13T02:33:20.427903+00:00'}], inputs={'text': '🌑🌒🌓🌔🌕'}, outputs={'output': {'content': '🌕🌔🌓🌒🌑', 'additional_kwargs': {}, 'type': 'AIMessageChunk', 'example': False}}, reference_example_id=None, parent_run_id=None, tags=[], session_id=UUID('0c870ddb-53b3-4717-918f-8415aa308fe7'), child_run_ids=[UUID('5014b13d-b1a7-4ed7-8cb7-98e9a8929175'), UUID('7c549e33-bc49-4797-be96-4637383f2d19')], child_runs=None, feedback_stats=None, app_path='/o/ebbaf2eb-769b-4505-aca2-d11de10372a4/projects/p/0c870ddb-53b3-4717-918f-8415aa308fe7/r/1960c94c-f860-4403-a1bd-3ebdd29099e0?trace_id=1960c94c-f860-4403-a1bd-3ebdd29099e0&start_time=2024-02-13T02:33:19.580185', manifest_id=None, status='success', prompt_tokens=27, completion_tokens=15, total_tokens=42, first_token_time=datetime.datetime(2024, 2, 13, 2, 33, 20, 302698), parent_run_ids=[], trace_id=UUID('1960c94c-f860-4403-a1bd-3ebdd29099e0'), dotted_order='20240213T023319580185Z1960c94c-f860-4403-a1bd-3ebdd29099e0')"
      ]
     },
     "execution_count": 5,
     "metadata": {},
     "output_type": "execute_result"
    }
   ],
   "source": [
    "# List with the name filter to get runs with the assigned name\n",
    "next(client.list_runs(project_name=project_name, filter='eq(name, \"StringReverse\")'))"
   ]
  },
  {
   "cell_type": "markdown",
   "id": "bc8890cc-cd47-47db-b86e-9eadb799bcfa",
   "metadata": {},
   "source": [
    "## Example 2: Runnable Lambda\n",
    "\n",
    "LangChain's [RunnableLambdas](https://api.python.langchain.com/en/latest/runnables/langchain_core.runnables.base.RunnableLambda.html) are custom functions that can be invoked, batched, streamed, and/or transformed.\n",
    "\n",
    "By default (in langchain versions >= 0.0.283), the name of the lambda is the function name. You can customize this by calling `with_config({\"run_name\": \"My Run Name\"})` on the runnable lambda object."
   ]
  },
  {
   "cell_type": "code",
   "execution_count": 6,
   "id": "7aae162d-a4e7-4ae2-90a5-faeab96eaf9d",
   "metadata": {
    "tags": []
   },
   "outputs": [],
   "source": [
    "from langchain_core.output_parsers import StrOutputParser\n",
    "\n",
    "\n",
    "def reverse_and_concat(txt: str) -> str:\n",
    "    return txt[::-1] + txt\n",
    "\n",
    "\n",
    "lambda_chain = chain | StrOutputParser() | reverse_and_concat"
   ]
  },
  {
   "cell_type": "code",
   "execution_count": 7,
   "id": "38156393-2a0c-4efc-a357-61ebddb597d9",
   "metadata": {
    "tags": []
   },
   "outputs": [
    {
     "name": "stdout",
     "output_type": "stream",
     "text": [
      "🌑🌒🌓🌔🌕🌕🌔🌓🌒🌑\n"
     ]
    }
   ],
   "source": [
    "with callbacks.collect_runs() as cb:\n",
    "    print(lambda_chain.invoke({\"text\": \"🌑🌒🌓🌔🌕\"}))\n",
    "    # We will fetch just the lambda run (which is the last child run in this root trace)\n",
    "    run = cb.traced_runs[0].child_runs[-1]"
   ]
  },
  {
   "cell_type": "code",
   "execution_count": 8,
   "id": "ffbbd788-eac5-4e1b-a7f2-a4414bc27917",
   "metadata": {
    "tags": []
   },
   "outputs": [
    {
     "name": "stdout",
     "output_type": "stream",
     "text": [
      "Saved name: reverse_and_concat\n"
     ]
    }
   ],
   "source": [
    "from langchain.callbacks.tracers import langchain\n",
    "\n",
    "# If you are using LangChain < 0.0.283, this will be \"RunnableLambda\"\n",
    "langchain.wait_for_all_tracers()\n",
    "print(f\"Saved name: {run.name}\")"
   ]
  },
  {
   "cell_type": "markdown",
   "id": "0d303a21-8065-4279-9441-2f8fee20ec52",
   "metadata": {},
   "source": [
    "The lambda function's trace will be given the lambda function's name, `reverse_and_concat`, as shown below:\n",
    "\n",
    "<a href=\"https://smith.langchain.com/public/86ff7b17-4a84-4f99-8a98-13c49658af89/r/54ea562c-d30a-4d71-8c98-5c174819c9dd\" target=\"_blank\"><img src=\"img/reverse_and_concat.png\" alt=\"reverse_and_concat\" width=\"75%\"></a>"
   ]
  },
  {
   "cell_type": "markdown",
   "id": "91d16a2b-2a25-41b2-ba84-6511de11a362",
   "metadata": {},
   "source": [
    "#### Customize Lambda Name\n",
    "\n",
    "In the `lambda_chain` above, our function was automatically promoted to a \"RunnableLambda\" via the piping syntax.\n",
    "We can customize the run name using the `with_config` syntax once the object is created."
   ]
  },
  {
   "cell_type": "code",
   "execution_count": 9,
   "id": "02123647-67cb-40d8-9c0c-10ab2e789d25",
   "metadata": {
    "tags": []
   },
   "outputs": [],
   "source": [
    "from langchain.schema import runnable\n",
    "\n",
    "configured_lambda_chain = (\n",
    "    chain\n",
    "    | StrOutputParser()\n",
    "    | runnable.RunnableLambda(reverse_and_concat).with_config(\n",
    "        {\"run_name\": \"LambdaReverse\"}\n",
    "    )\n",
    ")"
   ]
  },
  {
   "cell_type": "code",
   "execution_count": 10,
   "id": "3ae4a3f0-6019-4a73-bf9d-3c3becc52564",
   "metadata": {
    "tags": []
   },
   "outputs": [
    {
     "name": "stdout",
     "output_type": "stream",
     "text": [
      "🌑🌒🌓🌔🌕🌕🌔🌓🌒🌑\n"
     ]
    }
   ],
   "source": [
    "with callbacks.collect_runs() as cb:\n",
    "    print(configured_lambda_chain.invoke({\"text\": \"🌑🌒🌓🌔🌕\"}))\n",
    "    run = cb.traced_runs[0].child_runs[-1]"
   ]
  },
  {
   "cell_type": "code",
   "execution_count": 11,
   "id": "2e44d744-6cb6-4e0d-bdb6-502887df494f",
   "metadata": {
    "tags": []
   },
   "outputs": [
    {
     "name": "stdout",
     "output_type": "stream",
     "text": [
      "Saved name: LambdaReverse\n"
     ]
    }
   ],
   "source": [
    "callbacks.tracers.langchain.wait_for_all_tracers()\n",
    "print(f\"Saved name: {run.name}\")"
   ]
  },
  {
   "cell_type": "markdown",
   "id": "82a23bcb-e675-4d82-b79b-8ea2bdf0f02a",
   "metadata": {},
   "source": [
    "[![LambdaReverse](img/custom_lambda.png)](https://smith.langchain.com/public/43eea194-b0f0-452b-b92c-4ae39ffd0799/r)\n",
    "\n",
    "The lambda function's name now will be `LambdaReverse`, as shown below:\n"
   ]
  },
  {
   "cell_type": "markdown",
   "id": "9af59fad-63c1-435c-97b0-6bf73cda5ff9",
   "metadata": {},
   "source": [
    "## Example 3: Agents\n",
    "\n",
    "Since LangChain agents and agent executors are types of chains."
   ]
  },
  {
   "cell_type": "code",
   "execution_count": 12,
   "id": "81c8bfc9-1144-45b4-8ed5-3eb67c634c60",
   "metadata": {
    "tags": []
   },
   "outputs": [
    {
     "name": "stderr",
     "output_type": "stream",
     "text": [
      "/Users/mukilloganathan/langchain/venv/lib/python3.11/site-packages/langchain_core/_api/deprecation.py:117: LangChainDeprecationWarning: The function `initialize_agent` was deprecated in LangChain 0.1.0 and will be removed in 0.2.0. Use Use new agent constructor methods like create_react_agent, create_json_agent, create_structured_chat_agent, etc. instead.\n",
      "  warn_deprecated(\n"
     ]
    }
   ],
   "source": [
    "from langchain import agents, tools\n",
    "\n",
    "\n",
    "agent_executor = agents.initialize_agent(\n",
    "    llm=chat_models.ChatOpenAI(),\n",
    "    tools=[tools.ReadFileTool(), tools.WriteFileTool(), tools.ListDirectoryTool()],\n",
    "    agent=agents.AgentType.OPENAI_FUNCTIONS,\n",
    ")"
   ]
  },
  {
   "cell_type": "code",
   "execution_count": 13,
   "id": "325a08ce-9255-497e-9bb9-aa7cafba9bc3",
   "metadata": {
    "tags": []
   },
   "outputs": [
    {
     "name": "stdout",
     "output_type": "stream",
     "text": [
      "The files in the current directory are:\n",
      "1. run-naming.ipynb\n",
      "2. img\n",
      "3. .ipynb_checkpoints\n"
     ]
    }
   ],
   "source": [
    "with callbacks.collect_runs() as cb:\n",
    "    result = agent_executor.with_config({\"run_name\": \"File Agent\"}).invoke(\n",
    "        \"What files are in the current directory?\"\n",
    "    )\n",
    "    run = cb.traced_runs[0]\n",
    "    print(result[\"output\"])"
   ]
  },
  {
   "cell_type": "code",
   "execution_count": 14,
   "id": "26fc9778-886d-4405-8be4-c6d6ea9e9564",
   "metadata": {
    "tags": []
   },
   "outputs": [
    {
     "name": "stdout",
     "output_type": "stream",
     "text": [
      "Saved name: File Agent\n"
     ]
    }
   ],
   "source": [
    "callbacks.tracers.langchain.wait_for_all_tracers()\n",
    "print(f\"Saved name: {run.name}\")"
   ]
  },
  {
   "cell_type": "markdown",
   "id": "0be7b42f-071f-45f3-a5ce-448819823240",
   "metadata": {},
   "source": [
    "The resulting agent trace will reflect the custom name you've assigned to it.\n",
    "\n",
    "[![File Agent Trace](img/file_agent.png)](https://smith.langchain.com/public/00537050-0da5-4f95-ba28-857183ae9b0c/r)"
   ]
  },
  {
   "cell_type": "markdown",
   "id": "d99951f8-c578-4dec-9f62-cbf7da4c711d",
   "metadata": {},
   "source": [
    "## Conclusion\n",
    "\n",
    "An easy way to customize run names is to use the `with_config` syntax on your LangChain chain or runnable lambda. This makes it easier to understand a trace at a glance."
   ]
  },
  {
   "cell_type": "code",
   "execution_count": null,
   "id": "1263cfa0-56a8-4687-843c-e29631693ee3",
   "metadata": {},
   "outputs": [],
   "source": []
  }
 ],
 "metadata": {
  "kernelspec": {
   "display_name": "Python 3 (ipykernel)",
   "language": "python",
   "name": "python3"
  },
  "language_info": {
   "codemirror_mode": {
    "name": "ipython",
    "version": 3
   },
   "file_extension": ".py",
   "mimetype": "text/x-python",
   "name": "python",
   "nbconvert_exporter": "python",
   "pygments_lexer": "ipython3",
   "version": "3.11.5"
  }
 },
 "nbformat": 4,
 "nbformat_minor": 5
}
