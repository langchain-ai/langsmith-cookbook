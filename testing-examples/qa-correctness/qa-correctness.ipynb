{
  "cells": [
    {
      "cell_type": "markdown",
      "id": "f1a33c67",
      "metadata": {},
      "source": [
        "# Q&A System Correctness\n",
        "[![Open In Collab](https://colab.research.google.com/assets/colab-badge.svg)](https://colab.research.google.com/github/langchain-ai/langsmith-cookbook/blob/main/testing-examples/qa-correctness/qa-correctness.ipynb)\n",
        "\n",
        "Evaluating a question and answer systems can help you improve its system design as well as the prompt and model quality. We tend to improve what we can measure, so checking for accuracy is a top priority. One challenge for measuring accuracy is that the response are unstructured text. A Q&A system can generate lengthy responses, making traditional metrics like BLEU or ROUGE unreliable. For this scenario, using a well-labeled dataset and llm-assisted evaluators can help you grade your system's response quality. This complements human review and other measurements you might have already implemented.\n",
        "\n",
        "In this walkthrough, we will use LangSmith to check the correctness of a Q&A system against an example dataset. The main steps are:\n",
        "\n",
        "1. Create a dataset of questions and answers.\n",
        "2. Define your question and answering system.\n",
        "3. Run evaluation using LangSmith.\n",
        "4. Iterate to improve the system.\n",
        "\n",
        "The test run will be saved in a project along with all its feedback and links to every evaluator run.\n",
        "\n",
        "![test project](./img/test_project.png)\n",
        "\n",
        "> **Note 1:** This walkthrough tests the end-to-end behavior of the system. Separately evaluating each component of system is still important! Many components, such as the retrievers, can be tested separately using standard retrieval metrics to complement this full integration test.\n",
        "\n",
        "> **Note 2:** If your knowledge base is changing, make sure your answers are still correct! You can avoid this through some combination of independent testing of chain components, freezing the knowledge source used during testing, and regularly updating your dataset.\n",
        "\n",
        "Now let's get started!\n",
        "\n",
        "## Prerequisites\n",
        "\n",
        "This tutorial uses OpenAI for the model, ChromaDB to store documents, and LangChain to compose the chain. To make sure the tracing and evals are set up for [LangSmith](https://smith.langchain.com), please configure your API Key appropriately."
      ]
    },
    {
      "cell_type": "code",
      "execution_count": 1,
      "id": "4c788783",
      "metadata": {},
      "outputs": [],
      "source": [
        "import os\n",
        "\n",
        "# Update with your API URL if using a hosted instance of Langsmith.\n",
        "os.environ[\"LANGCHAIN_ENDPOINT\"] = \"https://api.smith.langchain.com\"\n",
        "os.environ[\"LANGCHAIN_API_KEY\"] = \"YOUR API KEY\"  # Update with your API key\n",
        "project_name = \"YOUR PROJECT NAME\"  # Update with your project name"
      ]
    },
    {
      "cell_type": "markdown",
      "id": "fe780fbd",
      "metadata": {},
      "source": [
        "Install the required packages. `lxml` and `html2text` are used by the document loader."
      ]
    },
    {
      "cell_type": "code",
      "execution_count": 2,
      "id": "4f9e7425",
      "metadata": {},
      "outputs": [],
      "source": [
        "# %pip install -U \"langchain[openai]\" > /dev/null\n",
        "# %pip install chromadb > /dev/null\n",
        "# %pip install lxml > /dev/null\n",
        "# %pip install html2text > /dev/null"
      ]
    },
    {
      "cell_type": "code",
      "execution_count": 3,
      "id": "afac8079",
      "metadata": {},
      "outputs": [],
      "source": [
        "# %env OPENAI_API_KEY=<YOUR-API-KEY>"
      ]
    },
    {
      "cell_type": "markdown",
      "id": "ff80ab6e",
      "metadata": {},
      "source": [
        "## 1. Create a Dataset\n",
        "\n",
        "For our example, we will be evaluating a Q&A system over the LangSmith documentation. In order to measure aggregate accuracy, we'll need to create a list of example question-answer pairs. We've hard-coded some below to demonstrate the process. In general, you'll want a lot more (>100) pairs to get more meaningful results. Drawing from actual queries can be helpful to ensure better representation of the domain.\n",
        "\n",
        "Below, we have hard-coded some question-answer pairs to evaluate and use the client's `create_example` method to create each example row."
      ]
    },
    {
      "cell_type": "code",
      "execution_count": 4,
      "id": "55e98a80-bf37-457e-b31d-952292e76c51",
      "metadata": {},
      "outputs": [],
      "source": [
        "# We have some hard-coded examples here.\n",
        "examples = [\n",
        "    (\n",
        "        \"What is LangChain?\",\n",
        "        \"LangChain is an open-source framework for building applications using large language models. It is also the name of the company building LangSmith.\",\n",
        "    ),\n",
        "    (\n",
        "        \"How might I query for all runs in a project?\",\n",
        "        \"client.list_runs(project_name='my-project-name'), or in TypeScript, client.ListRuns({projectName: 'my-project-anme'})\",\n",
        "    ),\n",
        "    (\n",
        "        \"What's a langsmith dataset?\",\n",
        "        \"A LangSmith dataset is a collection of examples. Each example contains inputs and optional expected outputs or references for that data point.\",\n",
        "    ),\n",
        "    (\n",
        "        \"How do I use a traceable decorator?\",\n",
        "        \"\"\"The traceable decorator is available in the langsmith python SDK. To use, configure your environment with your API key,\\\n",
        "import the required function, decorate your function, and then call the function. Below is an example:\n",
        "```python\n",
        "from langsmith.run_helpers import traceable\n",
        "@traceable(run_type=\"chain\") # or \"llm\", etc.\n",
        "def my_function(input_param):\n",
        "    # Function logic goes here\n",
        "    return output\n",
        "result = my_function(input_param)\n",
        "```\"\"\",\n",
        "    ),\n",
        "    (\n",
        "        \"Can I trace my Llama V2 llm?\",\n",
        "        \"So long as you are using one of LangChain's LLM implementations, all your calls can be traced\",\n",
        "    ),\n",
        "    (\n",
        "        \"Why do I have to set environment variables?\",\n",
        "        \"Environment variables can tell your LangChain application to perform tracing and contain the information necessary to authenticate to LangSmith.\"\n",
        "        \" While there are other ways to connect, environment variables tend to be the simplest way to configure your application.\",\n",
        "    ),\n",
        "    (\n",
        "        \"How do I move my project between organizations?\",\n",
        "        \"LangSmith doesn't directly support moving projects between organizations.\",\n",
        "    ),\n",
        "]"
      ]
    },
    {
      "cell_type": "code",
      "execution_count": 6,
      "id": "5edb7824",
      "metadata": {},
      "outputs": [],
      "source": [
        "from langsmith import Client\n",
        "\n",
        "client = Client()"
      ]
    },
    {
      "cell_type": "code",
      "execution_count": 7,
      "id": "cbcd3690",
      "metadata": {},
      "outputs": [],
      "source": [
        "import uuid\n",
        "\n",
        "dataset_name = f\"Retrieval QA Questions {str(uuid.uuid4())}\"\n",
        "dataset = client.create_dataset(dataset_name=dataset_name)\n",
        "for q, a in examples:\n",
        "    client.create_example(\n",
        "        inputs={\"question\": q}, outputs={\"answer\": a}, dataset_id=dataset.id\n",
        "    )"
      ]
    },
    {
      "cell_type": "markdown",
      "id": "2976437f",
      "metadata": {},
      "source": [
        "## 2. Define RAG Q&A System\n",
        "\n",
        "Our Q&A system uses a simple retriever and LLM response generator. To break that down further, the chain will be composed of:\n",
        "\n",
        "1. A [VectorStoreRetriever](https://api.python.langchain.com/en/latest/vectorstores/langchain_core.vectorstores.VectorStoreRetriever.html) to retrieve documents. This uses:\n",
        "   - An embedding model to vectorize documents and user queries for retrieval. In this case, the [OpenAIEmbeddings](https://api.python.langchain.com/en/latest/embeddings/langchain_openai.embeddings.base.OpenAIEmbeddings.html#langchain_openai.embeddings.base.OpenAIEmbeddingsl) model.\n",
        "   - A vectorstore, in this case we will use [Chroma](https://api.python.langchain.com/en/latest/vectorstores/langchain_community.vectorstores.chroma.Chroma.html#langchain_community.vectorstores.chroma.Chroma)\n",
        "2. A response generator. This uses:\n",
        "   - A [ChatPromptTemplate](https://api.python.langchain.com/en/latest/prompts/langchain_core.prompts.chat.ChatPromptTemplate.html) to combine the query and documents. \n",
        "   - An LLM, in this case, the 16k token context window version of `gpt-3.5-turbo` via [ChatOpenAI](https://api.python.langchain.com/en/latest/chat_models/langchain_openai.chat_models.base.ChatOpenAI.html#langchain_openai.chat_models.base.ChatOpenAI).\n",
        "\n",
        "We will combine them using LangChain's [expression syntax](https://python.langchain.com/docs/expression_language).\n",
        "\n",
        "First, load the documents to populate the vectorstore:"
      ]
    },
    {
      "cell_type": "code",
      "execution_count": 8,
      "id": "95fab721",
      "metadata": {},
      "outputs": [
        {
          "name": "stderr",
          "output_type": "stream",
          "text": [
            "/Users/mukilloganathan/langchain/venv/lib/python3.11/site-packages/bs4/builder/__init__.py:545: XMLParsedAsHTMLWarning: It looks like you're parsing an XML document using an HTML parser. If this really is an HTML document (maybe it's XHTML?), you can ignore or filter this warning. If it's XML, you should know that using an XML parser will be more reliable. To parse this document as XML, make sure you have the lxml package installed, and pass the keyword argument `features=\"xml\"` into the BeautifulSoup constructor.\n",
            "  warnings.warn(\n"
          ]
        }
      ],
      "source": [
        "from langchain.document_loaders import RecursiveUrlLoader\n",
        "from langchain.document_transformers import Html2TextTransformer\n",
        "from langchain.text_splitter import TokenTextSplitter\n",
        "from langchain.embeddings import OpenAIEmbeddings\n",
        "from langchain.vectorstores import Chroma\n",
        "\n",
        "api_loader = RecursiveUrlLoader(\"https://docs.smith.langchain.com\")\n",
        "text_splitter = TokenTextSplitter(\n",
        "    model_name=\"gpt-3.5-turbo\",\n",
        "    chunk_size=2000,\n",
        "    chunk_overlap=200,\n",
        ")\n",
        "doc_transformer = Html2TextTransformer()\n",
        "raw_documents = api_loader.load()\n",
        "transformed = doc_transformer.transform_documents(raw_documents)\n",
        "documents = text_splitter.split_documents(transformed)"
      ]
    },
    {
      "cell_type": "markdown",
      "id": "dbfc4b79-4219-4446-a00c-beda55c2205a",
      "metadata": {},
      "source": [
        "With the documents prepared, create the vectorstore retriever. This is what will be used to provide context when generating a response."
      ]
    },
    {
      "cell_type": "code",
      "execution_count": 9,
      "id": "057f0841-dd9f-4f75-8ff5-dbdda73f84ee",
      "metadata": {},
      "outputs": [],
      "source": [
        "embeddings = OpenAIEmbeddings()\n",
        "vectorstore = Chroma.from_documents(documents, embeddings)\n",
        "retriever = vectorstore.as_retriever(search_kwargs={\"k\": 4})"
      ]
    },
    {
      "cell_type": "markdown",
      "id": "8e35f884-bb93-427d-a0ad-3858c449a1ea",
      "metadata": {},
      "source": [
        "Next up, we'll define the response generator. This responds to the user by injecting the retrieved documents and the user query into a prompt template."
      ]
    },
    {
      "cell_type": "code",
      "execution_count": 10,
      "id": "e2f266e9-e4de-42ad-b41e-99ace4dc5131",
      "metadata": {},
      "outputs": [],
      "source": [
        "from langchain.prompts import ChatPromptTemplate\n",
        "from langchain.chat_models import ChatOpenAI\n",
        "from langchain.schema.output_parser import StrOutputParser\n",
        "\n",
        "from datetime import datetime\n",
        "\n",
        "prompt = ChatPromptTemplate.from_messages(\n",
        "    [\n",
        "        (\n",
        "            \"system\",\n",
        "            \"You are a helpful documentation Q&A assistant, trained to answer\"\n",
        "            \" questions from LangSmith's documentation.\"\n",
        "            \" LangChain is a framework for building applications using large language models.\"\n",
        "            \"\\nThe current time is {time}.\\n\\nRelevant documents will be retrieved in the following messages.\",\n",
        "        ),\n",
        "        (\"system\", \"{context}\"),\n",
        "        (\"human\", \"{question}\"),\n",
        "    ]\n",
        ").partial(time=str(datetime.now()))\n",
        "\n",
        "model = ChatOpenAI(model=\"gpt-3.5-turbo-16k\", temperature=0)\n",
        "response_generator = prompt | model | StrOutputParser()"
      ]
    },
    {
      "cell_type": "markdown",
      "id": "02e63610-fdab-4d4e-80db-cdf38805040d",
      "metadata": {},
      "source": [
        "Finally, assemble the full chain!"
      ]
    },
    {
      "cell_type": "code",
      "execution_count": 11,
      "id": "4490e622-d865-44ee-b6f4-681b658dad61",
      "metadata": {},
      "outputs": [],
      "source": [
        "# The full chain looks like the following\n",
        "from operator import itemgetter\n",
        "\n",
        "chain = (\n",
        "    # The runnable map here routes the original inputs to a context and a question dictionary to pass to the response generator\n",
        "    {\n",
        "        \"context\": itemgetter(\"question\")\n",
        "        | retriever\n",
        "        | (lambda docs: \"\\n\".join([doc.page_content for doc in docs])),\n",
        "        \"question\": itemgetter(\"question\"),\n",
        "    }\n",
        "    | response_generator\n",
        ")"
      ]
    },
    {
      "cell_type": "code",
      "execution_count": 12,
      "id": "77b0954d-924b-4241-9c59-96adbd1c3ac3",
      "metadata": {
        "tags": []
      },
      "outputs": [
        {
          "name": "stdout",
          "output_type": "stream",
          "text": [
            "To log user feedback to a run in LangSmith, you can use the `create_feedback` method provided by the LangSmith client. Here's an example of how to log user feedback using the Python client:\n",
            "\n",
            "```python\n",
            "from langsmith import Client\n",
            "\n",
            "client = Client()\n",
            "\n",
            "# Specify the run ID and feedback key\n",
            "run_id = \"<run_id>\"\n",
            "feedback_key = \"thumbs_up\"\n",
            "\n",
            "# Log the feedback\n",
            "client.create_feedback(\n",
            "    run_id,\n",
            "    feedback_key,\n",
            "    score=True\n",
            ")\n",
            "```\n",
            "\n",
            "In this example, we log a \"thumbs up\" feedback for a specific run by calling `create_feedback` with the run ID, feedback key, and a score of `True`. You can customize the feedback by providing additional optional fields such as `value`, `correction`, `comment`, `source_info`, and `feedback_source_type`.\n",
            "\n",
            "You can also log feedback using the LangSmith client in TypeScript. Here's an example:\n",
            "\n",
            "```typescript\n",
            "import { Client } from \"langsmith\";\n",
            "\n",
            "const client = new Client();\n",
            "\n",
            "// Specify the run ID and feedback key\n",
            "const runId = \"<run_id>\";\n",
            "const feedbackKey = \"thumbs_up\";\n",
            "\n",
            "// Log the feedback\n",
            "await client.createFeedback(runId, feedbackKey, { score: true });\n",
            "```\n",
            "\n",
            "Remember to replace `<run_id>` with the actual ID of the run you want to log feedback for, and `<feedback_key>` with the desired feedback key."
          ]
        }
      ],
      "source": [
        "for tok in chain.stream({\"question\": \"How do I log user feedback to a run?\"}):\n",
        "    print(tok, end=\"\", flush=True)"
      ]
    },
    {
      "cell_type": "markdown",
      "id": "f3dddd61",
      "metadata": {},
      "source": [
        "## 3. Evaluate the Chain\n",
        "\n",
        "We will use the off-the-shelf QA evaluator to measure the correctness of the retrieval Q&A responses"
      ]
    },
    {
      "cell_type": "code",
      "execution_count": 13,
      "id": "dedaff3c",
      "metadata": {},
      "outputs": [],
      "source": [
        "from langchain.smith import RunEvalConfig\n",
        "\n",
        "eval_config = RunEvalConfig(\n",
        "    evaluators=[\"qa\"],\n",
        "    # If you want to configure the eval LLM:\n",
        "    # eval_llm=ChatAnthropic(model=\"claude-2\", temperature=0)\n",
        ")"
      ]
    },
    {
      "cell_type": "markdown",
      "id": "75a5e4f7-f5b4-4d6a-9dd7-1973d8e9c0f7",
      "metadata": {},
      "source": [
        "Run the evaluation. This makes predictions over the dataset and then uses the \"QA\" evaluator to check the correctness on each data point."
      ]
    },
    {
      "cell_type": "code",
      "execution_count": 14,
      "id": "f30ce874",
      "metadata": {
        "scrolled": true
      },
      "outputs": [
        {
          "name": "stdout",
          "output_type": "stream",
          "text": [
            "View the evaluation results for project 'test-virtual-attitude-2' at:\n",
            "https://smith.langchain.com/o/9a6371ef-ea6a-4860-b3bd-9614084873e7/projects/p/b539e1db-d7db-4da7-87c3-d9087ed5d0b9\n",
            "[------------------------------------------------->] 7/7"
          ]
        }
      ],
      "source": [
        "_ = await client.arun_on_dataset(\n",
        "    dataset_name=dataset_name,\n",
        "    llm_or_chain_factory=lambda: chain,\n",
        "    evaluation=eval_config,\n",
        ")"
      ]
    },
    {
      "cell_type": "markdown",
      "id": "83fac17c-e0c7-4d85-bca1-18c4337fbcba",
      "metadata": {},
      "source": [
        "As the test run progresses, you can navigate to the generated \"test run\" project to see the chain's outputs, evaluator feedback, and links to the evaluation traces.\n",
        "\n",
        "From the test project page, you can filter the results based on feedback metrics. For instance, to see the examples marked as incorrect, click on \"Correctness==0\" in the filters section.\n",
        "\n",
        "![Incorrect Examples](./img/filter_correctness.png)\n",
        "\n",
        "Once you've filtered the results, you can click on the individual runs to see the traces and triage where the chain failed. You can click on the image below to see\n",
        "for yourself. Navigating to the \"Feedback\" tab will show the evaluation results linked to this run. \n",
        "\n",
        "![Incorrect Example Trace](./img/see_trace.png)\n",
        "\n",
        "You can click the link highlighted in red above to see the trace of the evaluator run. Since LLM-assisted evaluations are imperfect, viewing their traces is a good way to audit the feedback decisions, and it lets you decide when and how to tailor the prompt to your specific use case.\n",
        "\n",
        "![QA Eval Chain Run](./img/qa_eval_chain_run.png)\n"
      ]
    },
    {
      "cell_type": "markdown",
      "id": "15270951-84df-4ac8-84ef-23312fc16db0",
      "metadata": {},
      "source": [
        "This trace was marked as \"incorrect\". It looks like the chain is making up information, or \"hallucinating.\" If you click on the `ChatOpenAI` run in your own test project, you can open it in the playground to experiment with changes that may address this error.\n",
        "\n",
        "\n",
        "![Open in Playground](./img/open_in_playground.png)\n",
        "\n",
        "Let's try tweaking the prompt to better instruct the model. We'll add an additional system message to remind the model to only respond based on the retrieved documents.\n",
        "Click \"Add Message\" and paste in the following text:\n",
        "\n",
        "> Respond as best as you can. If no documents are retrieved or if you do not see an answer in the retrieved documents, admit you do not know or that you don't see it being supported at the moment.\n",
        "\n",
        "Click \"Submit\" to view the results streamed to the message in the right column. If you haven't already added your OpenAI key, you can do so using the \"Secrets & API Keys\" button.\n",
        "\n",
        "![Change Prompt](./img/playground_prompt.png)\n",
        "\n",
        "That seems to have the desired effect for this data point, but we want to be careful that we're not overfitting to a single example. We'll want to re-evaluate to confirm.\n",
        "\n"
      ]
    },
    {
      "cell_type": "markdown",
      "id": "f5bbd6a6-e3eb-4d3a-afe6-d5917d81c54d",
      "metadata": {},
      "source": [
        "## 4. Iterate\n",
        "\n",
        "The chain did pretty well, and in the previous section we were able to use the playground to come up with a proposed fix to the problem. Let's re-run the evaluation with the new prompt to see how it behaves overall. \n",
        "We've copied the chain code below, adding an additional system message to the chat prompt template:"
      ]
    },
    {
      "cell_type": "code",
      "execution_count": 15,
      "id": "25d189e9-ff07-48d9-9aef-7fc17b265e65",
      "metadata": {},
      "outputs": [],
      "source": [
        "prompt = ChatPromptTemplate.from_messages(\n",
        "    [\n",
        "        (\n",
        "            \"system\",\n",
        "            \"You are a helpful documentation Q&A assistant, trained to answer\"\n",
        "            \" questions from LangSmith's documentation.\"\n",
        "            \"\\nThe current time is {time}.\\n\\nRelevant documents will be retrieved in the following messages.\",\n",
        "        ),\n",
        "        (\"system\", \"{context}\"),\n",
        "        (\"human\", \"{question}\"),\n",
        "        # Add the new system message here:\n",
        "        (\n",
        "            \"system\",\n",
        "            \"Respond as best as you can. If no documents are retrieved or if you do not see an answer in the retrieved documents,\"\n",
        "            \" admit you do not know or that you don't see it being supported at the moment.\",\n",
        "        ),\n",
        "    ]\n",
        ").partial(time=lambda: str(datetime.now()))\n",
        "\n",
        "model = ChatOpenAI(model=\"gpt-3.5-turbo-16k\", temperature=0)\n",
        "response_generator_2 = prompt | model | StrOutputParser()\n",
        "chain_2 = {\n",
        "    \"context\": itemgetter(\"question\")\n",
        "    | retriever\n",
        "    | (lambda docs: \"\\n\".join([doc.page_content for doc in docs])),\n",
        "    \"question\": itemgetter(\"question\"),\n",
        "} | response_generator_2"
      ]
    },
    {
      "cell_type": "markdown",
      "id": "fbf882f9-c75b-43ac-956f-acd8f17ef800",
      "metadata": {},
      "source": [
        "Rerun the evaluation and check out the results as they become available."
      ]
    },
    {
      "cell_type": "code",
      "execution_count": 16,
      "id": "fbdfa2f4-fa96-42d9-94bc-bb5c227104da",
      "metadata": {},
      "outputs": [
        {
          "name": "stdout",
          "output_type": "stream",
          "text": [
            "View the evaluation results for project 'test-impressionable-lead-60' at:\n",
            "https://smith.langchain.com/o/9a6371ef-ea6a-4860-b3bd-9614084873e7/projects/p/fc4f3319-1707-4035-b4e8-b3b3fafcf5b7\n",
            "[------------------------------------------------->] 7/7"
          ]
        }
      ],
      "source": [
        "_ = await client.arun_on_dataset(\n",
        "    dataset_name=dataset_name,\n",
        "    llm_or_chain_factory=lambda: chain_2,\n",
        "    evaluation=eval_config,\n",
        ")"
      ]
    },
    {
      "cell_type": "markdown",
      "id": "e5352e20-af87-4735-9061-caf09e86610c",
      "metadata": {},
      "source": [
        "Now we can start comparing results. Navigate to the \"Retrieval QA Questions\" dataset page to see the aggregate feedback metrics for each test run. You can view your datasets by clicking the datasets & testing icon on the left bar.\n",
        "\n",
        "![Datasets Page](./img/dataset_test_runs.png)\n",
        "\n",
        "It looks like the new chain is passing all the examples now. Great job! Remember that this toy dataset, while illustrative, is too small to give a complete picture of the chain's performance. As we continue to prototype this chain, we can add more examples to the dataset.\n",
        "\n",
        "In addition to the aggregate feedback metrics, you can also view the individual predictions on each row. Click on the \"Examples\" tab to see each row in the dataset. Clicking on a given example will show the outputs from both test runs for that data point.\n",
        "Using the linked runs table, you can quickly compare predictions across chain versions to get a quick sense of the types of outputs you might see. You can click on each linked run to view the full traces again.\n",
        "\n",
        "![Example Page](./img/example.png)"
      ]
    },
    {
      "cell_type": "markdown",
      "id": "e4e3e141-30aa-4427-8b79-73f9535872ca",
      "metadata": {},
      "source": [
        "## 5. Conclusion\n",
        "\n",
        "Congratulations! You've just done a quick evaluation of the correctness of your Q&A system. In this tutorial, you used LangSmith to detect issues in a RAG pipeline and make some prompt tweaks to improve the chain's performance. You have also learned about evaluator feedback and how to use it in your LLM app development process. This is a great start to improving the consistency of your LLM applications.\n",
        "\n",
        "\n",
        "\n",
        "Thanks for trying this out! If you have questions or suggestions, please open an issue on GitHub or reach out to us at support@langchain.com."
      ]
    }
  ],
  "metadata": {
    "kernelspec": {
      "display_name": "Python 3 (ipykernel)",
      "language": "python",
      "name": "python3"
    },
    "language_info": {
      "codemirror_mode": {
        "name": "ipython",
        "version": 3
      },
      "file_extension": ".py",
      "mimetype": "text/x-python",
      "name": "python",
      "nbconvert_exporter": "python",
      "pygments_lexer": "ipython3",
      "version": "3.11.5"
    }
  },
  "nbformat": 4,
  "nbformat_minor": 5
}
