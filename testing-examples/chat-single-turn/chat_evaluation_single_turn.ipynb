{
 "cells": [
  {
   "cell_type": "markdown",
   "id": "d5bc7d94-ad28-4959-af26-d436035a2737",
   "metadata": {},
   "source": [
    "# Evaluate a Conversational Chat Bot\n",
    "[![Open In Collab](https://colab.research.google.com/assets/colab-badge.svg)](https://colab.research.google.com/github/langchain-ai/langsmith-cookbook/blob/main/testing-examples/chat-single-turn/chat_evaluation_single_turn.ipynb)\n",
    "\n",
    "Chat bots, designed to assist users or provide entertainment, typically engage in multiple conversational turns in any given chat session. Over extended interactions, there is potential for the quality of the LLM responses to diminish. This can manifest as difficulty in recalling earlier conversation details, improper interaction with external resources (if available), or repetitive and uninspired responses. If your current offline evaluations focus solely on individual question-answer pairs, such nuances may go unnoticed.\n",
    "\n",
    "This walkthrough guides you in creating a dataset to evaluate chatbots within multi-turn conversations. Rather than complicate the evaluation with simulation-based methods, the technique outlined below simplifies the process: we treat each data point as an individual dialogue turn. The image below shows two rows from the example dataset used in this walkthrough. The user's question would be difficult to comprehend when taken out of context, but the chat history provides enough information to cue the bot in on what should be included.\n",
    "\n",
    "![Simple dialogue examples](./img/comparison_screenshot.png)\n",
    "\n",
    "Evaluating each dialogue turn independently provides an additional benefit: if the examples are sampled from different stages of actual dialogues, they effectively capture and represent typical scenarios your bot should be able to handle well. \n",
    "\n",
    "This notebook provides a concise overview of the process. Let's get started!"
   ]
  },
  {
   "cell_type": "markdown",
   "id": "0e4febc5-2d9e-4a43-83ba-d84725ecb466",
   "metadata": {},
   "source": [
    "## Prerequisites\n",
    "\n",
    "This walkthrough uses LangChain and OpenAI. Install these packages below and configure your API keys accordingly."
   ]
  },
  {
   "cell_type": "code",
   "execution_count": 1,
   "id": "8a84cf96-099b-41c9-a286-85640db065c0",
   "metadata": {},
   "outputs": [],
   "source": [
    "%pip install -U langchain_openai langsmith"
   ]
  },
  {
   "cell_type": "code",
   "execution_count": 2,
   "id": "ce3a7158-4e4b-43a7-845d-b3091ea7b9f5",
   "metadata": {},
   "outputs": [],
   "source": [
    "import os\n",
    "\n",
    "os.environ[\"LANGCHAIN_API_KEY\"] = \"YOUR API KEY\"\n",
    "os.environ[\"OPENAI_API_KEY\"] = \"YOUR API KEY\"\n",
    "# Update with your API URL if using a hosted instance of Langsmith.\n",
    "os.environ[\"LANGCHAIN_ENDPOINT\"] = \"https://api.smith.langchain.com\""
   ]
  },
  {
   "cell_type": "code",
   "execution_count": 1,
   "id": "9baf7b71-4a29-4a0b-835f-9929169bfc82",
   "metadata": {},
   "outputs": [],
   "source": [
    "import uuid\n",
    "\n",
    "from langsmith import Client\n",
    "\n",
    "uid = uuid.uuid4()\n",
    "client = Client()"
   ]
  },
  {
   "cell_type": "markdown",
   "id": "cfd8a62c-ac6b-46b5-ba55-2eb4f4f51a55",
   "metadata": {},
   "source": [
    "# 1. Create dataset\n",
    "\n",
    "The key component of a multi-turn dialogue dataset is a list of conversational \"turns\". For each dataset example row,  we will evaluate how well the chat bot can respond, taking the conversation history into account. \n",
    "\n",
    "To accomplish his, we will make a dataset using a list of chat message dictionaries. We have factored out the \"incoming\" user query as a separate field."
   ]
  },
  {
   "cell_type": "code",
   "execution_count": 2,
   "id": "3ea885a4-83e4-45a5-b576-a14e085699d4",
   "metadata": {},
   "outputs": [],
   "source": [
    "examples = [\n",
    "    {\n",
    "        \"inputs\": {\n",
    "            \"question\": \"How does that apply?\",\n",
    "            \"chat_history\": [\n",
    "                {\n",
    "                    \"role\": \"user\",\n",
    "                    \"content\": \"I’m trying tto uunderstand instein’s theory.\",\n",
    "                },\n",
    "                {\n",
    "                    \"role\": \"assistant\",\n",
    "                    \"content\": \"Which one? He's known for several theories.\",\n",
    "                },\n",
    "                {\"role\": \"user\", \"content\": \"Thee one about time and spae.\"},\n",
    "                {\n",
    "                    \"role\": \"assistant\",\n",
    "                    \"content\": \"Ah, you're referring to the theory of relativity. There are two parts: special and general. Which one?\",\n",
    "                },\n",
    "            ],\n",
    "        },\n",
    "        \"outputs\": {\n",
    "            \"expected\": \"Special relativity, proposed by Einstein in 1905, deals with objects in uniform motion, especially those moving at the speed of light. It introduced the idea that time and space are relative and can change in relation to each other. For instance, time can appear to move slower for an object moving close to the speed of light.\"\n",
    "        },\n",
    "    },\n",
    "    {\n",
    "        \"inputs\": {\n",
    "            \"question\": \"What's the main difference?\",\n",
    "            \"chat_history\": [\n",
    "                {\"role\": \"user\", \"content\": \"Can yyou contrast DNA and RNA for me?\"},\n",
    "                {\n",
    "                    \"role\": \"assistant\",\n",
    "                    \"content\": \"Certainly. DNA and RNA are both nucleic acids but have different roles, structures, and properties. Do you want specifics?\",\n",
    "                },\n",
    "            ],\n",
    "        },\n",
    "        \"outputs\": {\n",
    "            \"expected\": \"The main structural differences between DNA and RNA include: 1) DNA is double-stranded while RNA is single-stranded. 2) The sugar in the backbone of RNA is ribose, whereas in DNA it's deoxyribose. 3) DNA uses the bases adenine (A), cytosine (C), guanine (G), and thymine (T); RNA uses adenine (A), cytosine (C), guanine (G), and uracil (U) instead of thymine.\"\n",
    "        },\n",
    "    },\n",
    "    {\n",
    "        \"inputs\": {\n",
    "            \"question\": \"what led them to such a draastic action?\",\n",
    "            \"chat_history\": [\n",
    "                {\"role\": \"user\", \"content\": \"tell me about the Boston Tea Party.\"},\n",
    "                {\n",
    "                    \"role\": \"assistant\",\n",
    "                    \"content\": \"The Boston Tea Party was a political protest by the American colonists against the British government in 1773. They were protesting the Tea Act, which allowed the British East India Company to sell tea directly to the colonies, bypassing colonial merchants.\",\n",
    "                },\n",
    "            ],\n",
    "        },\n",
    "        \"outputs\": {\n",
    "            \"expected\": \"The colonists undertook the Boston Tea Party as a drastic action due to multiple reasons: 1) They believed the Tea Act was a violation of their rights as Englishmen, as they were being taxed without their consent. 2) The act gave the British East India Company a monopoly on tea sales, threatening local businesses. 3) The act was seen as another example of the British government's increasing interference in colonial affairs. The protest was a way to show their strong opposition to British policies.\"\n",
    "        },\n",
    "    },\n",
    "    {\n",
    "        \"inputs\": {\n",
    "            \"question\": \"thats a scary one. can it be avoideed?\",\n",
    "            \"chat_history\": [\n",
    "                {\"role\": \"user\", \"content\": \"I'm learning bout genetic disorders.\"},\n",
    "                {\n",
    "                    \"role\": \"assistant\",\n",
    "                    \"content\": \"Genetic disorders are diseases caused by abnormalities in an individual's DNA. They can be inherited or result from mutations. One common one is Huntington's disease.\",\n",
    "                },\n",
    "            ],\n",
    "        },\n",
    "        \"outputs\": {\n",
    "            \"expected\": \"Huntington's disease is a hereditary genetic disorder caused by a mutation in the HTT gene. If a person inherits the defective gene, they will eventually develop the disease. Currently, there's no cure for Huntington's, but its onset can be delayed with treatment. Genetic counseling and testing can help prospective parents understand the risks of passing the mutation to their offspring.\"\n",
    "        },\n",
    "    },\n",
    "    {\n",
    "        \"inputs\": {\n",
    "            \"question\": \"Which one?\",\n",
    "            \"chat_history\": [\n",
    "                {\n",
    "                    \"role\": \"user\",\n",
    "                    \"content\": \"I'm confused aboutt stars. what even aaaare they?\",\n",
    "                },\n",
    "                {\n",
    "                    \"role\": \"assistant\",\n",
    "                    \"content\": \"Stars are celestial bodies made mostly of hydrogen and helium. They generate light and heat through nuclear fusion in their cores.\",\n",
    "                },\n",
    "                {\n",
    "                    \"role\": \"user\",\n",
    "                    \"content\": \"there''s a classification based on theirbrightness, right?\",\n",
    "                },\n",
    "                {\n",
    "                    \"role\": \"assistant\",\n",
    "                    \"content\": \"Yes\",\n",
    "                },\n",
    "            ],\n",
    "        },\n",
    "        \"outputs\": {\n",
    "            \"expected\": \"Yes, stars are classified based on their brightness using a system called the Hertzsprung-Russell (H-R) diagram. In this diagram, stars are categorized into main-sequence stars, giants, supergiants, and white dwarfs, based on their luminosity and temperature. The Sun, for instance, is a main-sequence star.\"\n",
    "        },\n",
    "    },\n",
    "]"
   ]
  },
  {
   "cell_type": "code",
   "execution_count": 3,
   "id": "f029f8f7-ba87-4210-8a68-2f51fb91e30d",
   "metadata": {},
   "outputs": [],
   "source": [
    "dataset_name = f\"Chat Bot Evals Single-Turn Example - {uid}\"\n",
    "dataset = client.create_dataset(dataset_name)\n",
    "client.create_examples(\n",
    "    inputs=[e[\"inputs\"] for e in examples],\n",
    "    outputs=[e[\"outputs\"] for e in examples],\n",
    "    dataset_id=dataset.id,\n",
    ")"
   ]
  },
  {
   "cell_type": "markdown",
   "id": "08e57fe3-877c-4509-b487-4cacfc1ba1a7",
   "metadata": {},
   "source": [
    "## Step 2: Define chat bot\n",
    "\n",
    "For this tutorial, our simple chat bot formats the messages for an LLM and responds with the resulting content without consulting any external resources."
   ]
  },
  {
   "cell_type": "code",
   "execution_count": 5,
   "id": "2428d0d5-f5a7-4def-bd10-09f3130d3d75",
   "metadata": {},
   "outputs": [],
   "source": [
    "from langchain.prompts import ChatPromptTemplate, MessagesPlaceholder\n",
    "from langchain.schema.output_parser import StrOutputParser\n",
    "from langchain_openai import ChatOpenAI\n",
    "\n",
    "# An example chain\n",
    "chain = (\n",
    "    ChatPromptTemplate.from_messages(\n",
    "        [\n",
    "            (\"system\", \"You are a helpful tutor AI.\"),\n",
    "            MessagesPlaceholder(variable_name=\"chat_history\"),\n",
    "            (\"user\", \"{input}\"),\n",
    "        ]\n",
    "    )\n",
    "    | ChatOpenAI(model=\"gpt-3.5-turbo\")\n",
    "    | StrOutputParser()\n",
    ")"
   ]
  },
  {
   "cell_type": "markdown",
   "id": "314cba1d-c2c1-430d-a1e7-e16b6ecb8240",
   "metadata": {},
   "source": [
    "## Step 3: Evaluate\n",
    "\n",
    "Now that we have defined our dataset and chat bot, it's time to run the evaluation.\n",
    "We will pass a constructor in to the `run_on_dataset` function to create a new instance\n",
    "of our bot for each dataset example. This also includes some mapping logic to prepare\n",
    "the data for the bot itself."
   ]
  },
  {
   "cell_type": "code",
   "execution_count": 10,
   "id": "55cd3542-6df7-44f4-aa83-83359b167b40",
   "metadata": {},
   "outputs": [
    {
     "name": "stderr",
     "output_type": "stream",
     "text": [
      "/var/folders/gf/6rnp_mbx5914kx7qmmh7xzmw0000gn/T/ipykernel_66655/886609067.py:30: UserWarning: Function evaluate is in beta.\n",
      "  results = evaluate(\n"
     ]
    },
    {
     "name": "stdout",
     "output_type": "stream",
     "text": [
      "View the evaluation results for experiment: 'Chat Single Turn:bc7b047' at:\n",
      "https://smith.langchain.com/o/ebbaf2eb-769b-4505-aca2-d11de10372a4/datasets/c7f90d0a-73cd-40dc-9638-4191e8114092/compare?selectedSessions=6646f09e-7321-468b-9bef-32fcbd71c1f6\n",
      "\n",
      "\n"
     ]
    },
    {
     "data": {
      "application/vnd.jupyter.widget-view+json": {
       "model_id": "765c6c75ba0c440baae6bc7b2f07ab0e",
       "version_major": 2,
       "version_minor": 0
      },
      "text/plain": [
       "0it [00:00, ?it/s]"
      ]
     },
     "metadata": {},
     "output_type": "display_data"
    }
   ],
   "source": [
    "from langchain.adapters.openai import convert_openai_messages\n",
    "from langsmith.evaluation import LangChainStringEvaluator, evaluate\n",
    "from langsmith.schemas import Example, Run\n",
    "\n",
    "\n",
    "def predict(inputs: dict):\n",
    "    # Add a step to convert the data from the dataset to a form the chain can consume\n",
    "    return chain.invoke(\n",
    "        {\n",
    "            \"input\": inputs[\"question\"],\n",
    "            \"chat_history\": convert_openai_messages(inputs[\"chat_history\"]),\n",
    "        }\n",
    "    )\n",
    "\n",
    "\n",
    "def format_evaluator_inputs(run: Run, example: Example):\n",
    "    return {\n",
    "        \"input\": example.inputs[\"question\"],\n",
    "        \"prediction\": next(iter(run.outputs.values())),\n",
    "        \"reference\": example.outputs[\"expected\"],\n",
    "    }\n",
    "\n",
    "\n",
    "correctness_evaluator = LangChainStringEvaluator(\n",
    "    \"labeled_score_string\",\n",
    "    config={\"criteria\": \"correctness\", \"normalize_by\": 10},\n",
    "    prepare_data=format_evaluator_inputs,\n",
    ")\n",
    "\n",
    "results = evaluate(\n",
    "    predict,\n",
    "    data=dataset_name,\n",
    "    experiment_prefix=\"Chat Single Turn\",\n",
    "    evaluators=[correctness_evaluator],\n",
    "    metadata={\"model\": \"gpt-3.5-turbo\"},\n",
    ")"
   ]
  },
  {
   "cell_type": "markdown",
   "id": "87be599b-6165-4684-8c71-42c3ed270d29",
   "metadata": {},
   "source": [
    "## Conclusion\n",
    "\n",
    "We've covered the steps to create a conversational dataset to measure your chat bot's ability to handle conversation history.\n",
    "\n",
    "Effective evaluation focuses on ensuring the bot maintains consistent and accurate interactions across turns. With the methods outlined here, you're set up to measure and improve this aspect of your chat bot's performance."
   ]
  },
  {
   "cell_type": "code",
   "execution_count": null,
   "id": "55929450-fcc3-427b-a80e-6c0a8e21fe8b",
   "metadata": {},
   "outputs": [],
   "source": []
  }
 ],
 "metadata": {
  "kernelspec": {
   "display_name": "Python 3 (ipykernel)",
   "language": "python",
   "name": "python3"
  },
  "language_info": {
   "codemirror_mode": {
    "name": "ipython",
    "version": 3
   },
   "file_extension": ".py",
   "mimetype": "text/x-python",
   "name": "python",
   "nbconvert_exporter": "python",
   "pygments_lexer": "ipython3",
   "version": "3.11.2"
  }
 },
 "nbformat": 4,
 "nbformat_minor": 5
}
