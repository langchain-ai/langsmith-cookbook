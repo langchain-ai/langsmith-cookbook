{
 "cells": [
  {
   "cell_type": "code",
   "execution_count": 1,
   "id": "2c07cd08",
   "metadata": {},
   "outputs": [],
   "source": [
    "import os\n",
    "\n",
    "os.environ[\"LANGCHAIN_PROJECT\"] = \"demo-optimization\"\n",
    "os.environ[\"LANGCHAIN_API_KEY\"] = \"...\""
   ]
  },
  {
   "cell_type": "code",
   "execution_count": 2,
   "id": "b66141b8",
   "metadata": {},
   "outputs": [],
   "source": [
    "from langsmith import Client\n",
    "\n",
    "client = Client()"
   ]
  },
  {
   "cell_type": "code",
   "execution_count": 6,
   "id": "d188e850",
   "metadata": {},
   "outputs": [
    {
     "data": {
      "text/plain": [
       "<Response [200]>"
      ]
     },
     "execution_count": 6,
     "metadata": {},
     "output_type": "execute_result"
    }
   ],
   "source": [
    "client.request_with_retries(\n",
    "    \"POST\",\n",
    "    client.api_url + \"/runs/rules\",\n",
    "    {\n",
    "        \"json\": {\n",
    "            \"display_name\": \"queries\",\n",
    "            \"session_id\": \"942208fa-21ee-4ed8-ab5d-6ed5a9090cdf\",\n",
    "            \"sampling_rate\": 1,\n",
    "            \"filter\": 'eq(name, \"generate_movie_search\")',\n",
    "            \"trace_filter\": 'and(eq(feedback_key, \"correctness\"), eq(feedback_score, 1))',\n",
    "            \"add_to_dataset_id\": \"ef2d35f5-bb69-41e0-bf91-c5b5eb631d43\",\n",
    "        },\n",
    "        \"headers\": client._headers,\n",
    "    },\n",
    ")"
   ]
  },
  {
   "cell_type": "code",
   "execution_count": 7,
   "id": "c3a34e6c",
   "metadata": {},
   "outputs": [],
   "source": [
    "from openai import OpenAI\n",
    "from langsmith import wrappers, traceable\n",
    "\n",
    "openai = wrappers.wrap_openai(OpenAI())"
   ]
  },
  {
   "cell_type": "code",
   "execution_count": 8,
   "id": "e6c6c1ea",
   "metadata": {},
   "outputs": [],
   "source": [
    "import json\n",
    "\n",
    "tools = [\n",
    "    {\n",
    "        \"type\": \"function\",\n",
    "        \"function\": {\n",
    "            \"name\": \"retrieve_movies\",\n",
    "            \"description\": \"Retrieve a list of relevant movies and their metadata from a movie database.\",\n",
    "            \"parameters\": {\n",
    "                \"type\": \"object\",\n",
    "                \"properties\": {\n",
    "                    \"query\": {\n",
    "                        \"type\": \"string\",\n",
    "                        \"description\": \"The query used to retrieve movies from the movie database, for example 'Christopher Nolan films'\",\n",
    "                    },\n",
    "                },\n",
    "                \"required\": [\"query\"],\n",
    "            },\n",
    "        },\n",
    "    },\n",
    "]\n",
    "\n",
    "system_prompt = \"\"\"\n",
    "Don't make assumptions about what values to plug into functions. Ask for clarification if a user request is ambiguous.\n",
    "Note that if the question does not require additional search and can be answered using the chat history, simply respond with the answer.\n",
    "Don't make up content that's not supplied in chat history.\n",
    "\"\"\"\n",
    "\n",
    "\n",
    "@traceable\n",
    "def generate_movie_search(messages):\n",
    "    messages = [\n",
    "        {\"role\": \"system\", \"content\": system_prompt},\n",
    "    ] + messages\n",
    "    result = openai.chat.completions.create(\n",
    "        messages=messages, model=\"gpt-3.5-turbo-0613\", tools=tools\n",
    "    )\n",
    "    return result.choices[0].message\n",
    "\n",
    "\n",
    "def _convert_docs(results):\n",
    "    return [\n",
    "        {\n",
    "            \"page_content\": r,\n",
    "            \"type\": \"Document\",\n",
    "        }\n",
    "        for r in results\n",
    "    ]\n",
    "\n",
    "\n",
    "@traceable(run_type=\"retriever\")\n",
    "def retrieve_movies(query):\n",
    "    # Foo retriever. In production, this would search an actual database\n",
    "    if \"family-friendly\" in query.lower():\n",
    "        return _convert_docs([\"Lion King\", \"Finding Nemo\", \"The Incredibles\"])\n",
    "    elif \"sci-fi\" in query.lower():\n",
    "        return _convert_docs([\"Blade Runner 2049\", \"Interstellar\", \"The Martian\"])\n",
    "    elif \"nature\" in query.lower():\n",
    "        return _convert_docs([\"Planet Earth II\", \"Blue Planet II\", \"Our Planet\"])\n",
    "    elif \"christopher nolan\" in query.lower():\n",
    "        return _convert_docs([\"Inception\", \"Dunkirk\", \"Interstellar\"])\n",
    "    else:\n",
    "        return _convert_docs(\n",
    "            [\"Crazy Rich Asians\", \"The Big Sick\", \"When Harry Met Sally\"]\n",
    "        )\n",
    "\n",
    "\n",
    "@traceable\n",
    "def execute_function_call(message):\n",
    "    if message.tool_calls[0].function.name == \"retrieve_movies\":\n",
    "        query = json.loads(message.tool_calls[0].function.arguments)[\"query\"]\n",
    "        results = retrieve_movies(query)\n",
    "    else:\n",
    "        results = (\n",
    "            f\"Error: function {message.tool_calls[0].function.name} does not exist\"\n",
    "        )\n",
    "    return results\n",
    "\n",
    "\n",
    "@traceable\n",
    "def generate_answer(messages, context):\n",
    "    messages = [\n",
    "        {\n",
    "            \"role\": \"system\",\n",
    "            \"content\": f\"Answer the user's question based only on the content below:\\n\\n{context}\",\n",
    "        },\n",
    "    ] + messages\n",
    "    result = openai.chat.completions.create(\n",
    "        messages=messages, model=\"gpt-3.5-turbo\", temperature=0\n",
    "    )\n",
    "    return result.choices[0].message.content\n",
    "\n",
    "\n",
    "@traceable\n",
    "def rag_pipeline(messages):\n",
    "    message = generate_movie_search(messages)\n",
    "    if message.tool_calls is None:\n",
    "        return message.content\n",
    "    else:\n",
    "        docs = execute_function_call(message)\n",
    "        context = \"\\n\".join([doc[\"page_content\"] for doc in docs])\n",
    "        return generate_answer(messages, context)"
   ]
  },
  {
   "cell_type": "code",
   "execution_count": 9,
   "id": "0835f4f8",
   "metadata": {},
   "outputs": [
    {
     "data": {
      "text/plain": [
       "'While \"Crazy Rich Asians,\" \"The Big Sick,\" and \"When Harry Met Sally\" are all great movies, they are not typically considered family movies. For family-friendly options, you may want to consider films like \"Finding Nemo,\" \"Toy Story,\" or \"The Incredibles.\"'"
      ]
     },
     "execution_count": 9,
     "metadata": {},
     "output_type": "execute_result"
    }
   ],
   "source": [
    "rag_pipeline([{\"role\": \"user\", \"content\": \"what are some family movies to watch?\"}])"
   ]
  },
  {
   "cell_type": "code",
   "execution_count": 12,
   "id": "c238fbc6",
   "metadata": {},
   "outputs": [
    {
     "data": {
      "text/plain": [
       "\"I'm sorry, but the movies you mentioned - Crazy Rich Asians, The Big Sick, and When Harry Met Sally - do not involve aliens. If you're looking for movies about aliens, some popular options include E.T. the Extra-Terrestrial, Independence Day, and Arrival.\""
      ]
     },
     "execution_count": 12,
     "metadata": {},
     "output_type": "execute_result"
    }
   ],
   "source": [
    "rag_pipeline([{\"role\": \"user\", \"content\": \"what are some movies about aliens?\"}])"
   ]
  },
  {
   "cell_type": "code",
   "execution_count": 14,
   "id": "278dd14b",
   "metadata": {},
   "outputs": [
    {
     "data": {
      "text/plain": [
       "'I recommend watching \"When Harry Met Sally.\" It is a classic romantic comedy that is both heartwarming and funny. Enjoy!'"
      ]
     },
     "execution_count": 14,
     "metadata": {},
     "output_type": "execute_result"
    }
   ],
   "source": [
    "rag_pipeline([{\"role\": \"user\", \"content\": \"Need a light-hearted movie\"}])"
   ]
  },
  {
   "cell_type": "code",
   "execution_count": 15,
   "id": "c111f569",
   "metadata": {},
   "outputs": [],
   "source": [
    "examples = list(client.list_examples(dataset_name=\"demo-optimization\"))"
   ]
  },
  {
   "cell_type": "code",
   "execution_count": 17,
   "id": "391a9962",
   "metadata": {},
   "outputs": [
    {
     "data": {
      "text/plain": [
       "{'messages': [{'role': 'user',\n",
       "   'content': 'what are some movies about aliens?'}]}"
      ]
     },
     "execution_count": 17,
     "metadata": {},
     "output_type": "execute_result"
    }
   ],
   "source": [
    "examples[0].inputs"
   ]
  },
  {
   "cell_type": "code",
   "execution_count": 18,
   "id": "a262d17b",
   "metadata": {},
   "outputs": [
    {
     "data": {
      "text/plain": [
       "{'output': {'role': 'assistant',\n",
       "  'tool_calls': [{'id': 'call_pmNG2wQiXMTy77aogKyYkpc0',\n",
       "    'type': 'function',\n",
       "    'function': {'name': 'retrieve_movies',\n",
       "     'arguments': '{\\n\"query\": \"movies about aliens\"\\n}'}}]}}"
      ]
     },
     "execution_count": 18,
     "metadata": {},
     "output_type": "execute_result"
    }
   ],
   "source": [
    "examples[0].outputs"
   ]
  },
  {
   "cell_type": "code",
   "execution_count": 33,
   "id": "950357ee",
   "metadata": {},
   "outputs": [],
   "source": [
    "few_shot_examples = []\n",
    "for example in examples:\n",
    "    few_shot_examples.extend(example.inputs[\"messages\"])\n",
    "    few_shot_examples.append(example.outputs[\"output\"])\n",
    "    few_shot_examples.extend(\n",
    "        [\n",
    "            {\"role\": \"tool\", \"tool_call_id\": m[\"id\"], \"content\": \"...\"}\n",
    "            for m in example.outputs[\"output\"][\"tool_calls\"]\n",
    "        ]\n",
    "    )"
   ]
  },
  {
   "cell_type": "code",
   "execution_count": 34,
   "id": "6efa09f3",
   "metadata": {},
   "outputs": [],
   "source": [
    "@traceable\n",
    "def generate_movie_search(messages):\n",
    "    messages = (\n",
    "        [\n",
    "            {\"role\": \"system\", \"content\": system_prompt},\n",
    "        ]\n",
    "        + few_shot_examples\n",
    "        + messages\n",
    "    )\n",
    "    result = openai.chat.completions.create(\n",
    "        messages=messages, model=\"gpt-3.5-turbo-0613\", tools=tools\n",
    "    )\n",
    "    return result.choices[0].message"
   ]
  },
  {
   "cell_type": "code",
   "execution_count": 35,
   "id": "2a63ccbe",
   "metadata": {},
   "outputs": [],
   "source": [
    "@traceable\n",
    "def rag_pipeline(messages):\n",
    "    message = generate_movie_search(messages)\n",
    "    if message.tool_calls is None:\n",
    "        return message.content\n",
    "    else:\n",
    "        docs = execute_function_call(message)\n",
    "        context = \"\\n\".join([doc[\"page_content\"] for doc in docs])\n",
    "        return generate_answer(messages, context)"
   ]
  },
  {
   "cell_type": "code",
   "execution_count": 37,
   "id": "8b5bcb38",
   "metadata": {},
   "outputs": [
    {
     "data": {
      "text/plain": [
       "'If you enjoyed \"Crazy Rich Asians,\" \"The Big Sick,\" and \"When Harry Met Sally,\" you might like the suspenseful movie \"Gone Girl.\"'"
      ]
     },
     "execution_count": 37,
     "metadata": {},
     "output_type": "execute_result"
    }
   ],
   "source": [
    "rag_pipeline([{\"role\": \"user\", \"content\": \"Suggest a suspenseful movie\"}])"
   ]
  },
  {
   "cell_type": "code",
   "execution_count": null,
   "id": "bc43ac60",
   "metadata": {},
   "outputs": [],
   "source": []
  }
 ],
 "metadata": {
  "kernelspec": {
   "display_name": "Python 3 (ipykernel)",
   "language": "python",
   "name": "python3"
  },
  "language_info": {
   "codemirror_mode": {
    "name": "ipython",
    "version": 3
   },
   "file_extension": ".py",
   "mimetype": "text/x-python",
   "name": "python",
   "nbconvert_exporter": "python",
   "pygments_lexer": "ipython3",
   "version": "3.11.7"
  }
 },
 "nbformat": 4,
 "nbformat_minor": 5
}
