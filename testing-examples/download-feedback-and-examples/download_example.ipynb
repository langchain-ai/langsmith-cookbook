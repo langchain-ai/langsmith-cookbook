{
 "cells": [
  {
   "cell_type": "markdown",
   "id": "8b45a82a-a0dd-489b-bba8-c34f8e5afb96",
   "metadata": {},
   "source": [
    "# How to download feedback and examples from a test project\n",
    "[![Open In Collab](https://colab.research.google.com/assets/colab-badge.svg)](https://colab.research.google.com/github/langchain-ai/langsmith-cookbook/blob/main/testing-examples/download-feedback-and-examples/download_example.ipynb)\n",
    "\n",
    "When testing with Langsmith, all the traces, examples, and evaluation feedback are saved so you have a full audit of what happened.\n",
    "This way you can see the aggregate metrics of the test run and compare on an example by example basis. You can also download the run and evaluation result information\n",
    "to use in external reporting software.\n",
    "\n",
    "In this walkthrough, we will show how to export the feedback and examples from a Langsmith test project. The main steps are:\n",
    "\n",
    "1. Create a dataset\n",
    "2. Run testing\n",
    "3. Export feedback and examples\n",
    "\n",
    "## Setup\n",
    "\n",
    "Install langchain and any other dependencies for your chain. We will install pandas as well for this walkthrough to put the retrieved data in a dataframe."
   ]
  },
  {
   "cell_type": "code",
   "execution_count": null,
   "id": "214520b3-801a-43eb-9eb5-017c1c6a9107",
   "metadata": {
    "tags": []
   },
   "outputs": [],
   "source": [
    "# %pip install -U langsmith langchain anthropic pandas --quiet"
   ]
  },
  {
   "cell_type": "code",
   "execution_count": 1,
   "id": "e820af26-12aa-4f2c-9ffb-345e68dfc638",
   "metadata": {
    "tags": []
   },
   "outputs": [],
   "source": [
    "import os\n",
    "\n",
    "# Update with your API URL if using a hosted instance of Langsmith.\n",
    "os.environ[\"LANGCHAIN_ENDPOINT\"] = \"https://api.smith.langchain.com\"\n",
    "os.environ[\"LANGCHAIN_API_KEY\"] = \"YOUR API KEY\"  # Update with your API key\n",
    "project_name = \"YOUR PROJECT NAME\"  # Update with your project name\n",
    "os.environ[\"LANGCHAIN_PROJECT\"] = project_name  # Optional: \"default\" is used if not set"
   ]
  },
  {
   "cell_type": "markdown",
   "id": "33f813bc-14b0-4015-aed6-d4365f4b9047",
   "metadata": {},
   "source": [
    "## 1. Create a dataset\n",
    "\n",
    "We will create a simple KV dataset with a poem topic and a constraint letter (which the model should not use)."
   ]
  },
  {
   "cell_type": "code",
   "execution_count": 4,
   "id": "6594fa55-8278-453e-b923-fb5eb18b9458",
   "metadata": {
    "tags": []
   },
   "outputs": [],
   "source": [
    "from langsmith import Client\n",
    "import uuid\n",
    "\n",
    "client = Client()\n",
    "\n",
    "examples = [\n",
    "    (\"roses\", \"o\"),\n",
    "    (\"vikings\", \"v\"),\n",
    "    (\"planet earth\", \"e\"),\n",
    "    (\"Sirens of Titan\", \"t\"),\n",
    "]\n",
    "\n",
    "dataset_name = f\"Download Feedback and Examples {str(uuid.uuid4())}\"\n",
    "dataset = client.create_dataset(dataset_name)\n",
    "\n",
    "for prompt, constraint in examples:\n",
    "    client.create_example(\n",
    "        {\"input\": prompt, \"constraint\": constraint},\n",
    "        dataset_id=dataset.id,\n",
    "        outputs={\"constraint\": constraint},\n",
    "    )"
   ]
  },
  {
   "cell_type": "markdown",
   "id": "787a8a19-986c-4334-8ef6-08e884b45bcd",
   "metadata": {},
   "source": [
    "## 2. Run testing\n",
    "\n",
    "We will use a simple custom evaluator that checks whether the prediction contains the constraint letter."
   ]
  },
  {
   "cell_type": "code",
   "execution_count": 5,
   "id": "df839dab-f0dc-435a-982d-2bcc501257ce",
   "metadata": {
    "tags": []
   },
   "outputs": [],
   "source": [
    "from typing import Any\n",
    "from langchain.evaluation import StringEvaluator\n",
    "\n",
    "\n",
    "class ConstraintEvaluator(StringEvaluator):\n",
    "    @property\n",
    "    def requires_reference(self):\n",
    "        return True\n",
    "\n",
    "    def _evaluate_strings(self, prediction: str, reference: str, **kwargs: Any) -> dict:\n",
    "        # Reference in this case is the letter that should not be present\n",
    "        return {\n",
    "            \"score\": bool(reference not in prediction),\n",
    "            \"reasoning\": f\"prediction contains the letter {reference}\",\n",
    "        }"
   ]
  },
  {
   "cell_type": "code",
   "execution_count": 6,
   "id": "3dc523be-b157-44a6-a820-f2bb2d2757ba",
   "metadata": {
    "tags": []
   },
   "outputs": [
    {
     "name": "stdout",
     "output_type": "stream",
     "text": [
      "View the evaluation results for project 'test-elderly-war-24' at:\n",
      "https://smith.langchain.com/o/9a6371ef-ea6a-4860-b3bd-9614084873e7/projects/p/029c5f34-bfeb-423f-9a2b-93780061c5c4\n",
      "[------------------------------------------------->] 4/4"
     ]
    }
   ],
   "source": [
    "from langchain import chat_models, prompts\n",
    "from langchain.schema.output_parser import StrOutputParser\n",
    "\n",
    "from langchain.smith import RunEvalConfig\n",
    "\n",
    "chain = (\n",
    "    prompts.PromptTemplate.from_template(\n",
    "        \"Write a poem about {input} without using the letter {constraint}. Respond directly with the poem with no explanation.\"\n",
    "    )\n",
    "    | chat_models.ChatAnthropic()\n",
    "    | StrOutputParser()\n",
    ")\n",
    "\n",
    "eval_config = RunEvalConfig(\n",
    "    custom_evaluators=[ConstraintEvaluator()],\n",
    "    input_key=\"input\",\n",
    ")\n",
    "\n",
    "test_results = client.run_on_dataset(\n",
    "    dataset_name=dataset_name,\n",
    "    llm_or_chain_factory=chain,\n",
    "    evaluation=eval_config,\n",
    ")"
   ]
  },
  {
   "cell_type": "markdown",
   "id": "75f3c533-8ee6-466b-9082-372710287873",
   "metadata": {},
   "source": [
    "## 3. Review the feedback and examples"
   ]
  },
  {
   "cell_type": "markdown",
   "id": "8462317f-bfe6-4d0f-b418-a353d51c59da",
   "metadata": {
    "tags": []
   },
   "source": [
    "If you want to directly use the results, you can easily access them in tabular format by calling `to_dataframe()` on the test_results. "
   ]
  },
  {
   "cell_type": "code",
   "execution_count": 8,
   "id": "da614c30-63ab-4c7f-a366-583bb89c01b7",
   "metadata": {
    "tags": []
   },
   "outputs": [
    {
     "data": {
      "text/html": [
       "<div>\n",
       "<style scoped>\n",
       "    .dataframe tbody tr th:only-of-type {\n",
       "        vertical-align: middle;\n",
       "    }\n",
       "\n",
       "    .dataframe tbody tr th {\n",
       "        vertical-align: top;\n",
       "    }\n",
       "\n",
       "    .dataframe thead th {\n",
       "        text-align: right;\n",
       "    }\n",
       "</style>\n",
       "<table border=\"1\" class=\"dataframe\">\n",
       "  <thead>\n",
       "    <tr style=\"text-align: right;\">\n",
       "      <th></th>\n",
       "      <th>ConstraintEvaluator</th>\n",
       "      <th>input</th>\n",
       "      <th>output</th>\n",
       "      <th>reference</th>\n",
       "    </tr>\n",
       "  </thead>\n",
       "  <tbody>\n",
       "    <tr>\n",
       "      <th>f9fad700-f624-4fd1-bc02-93b6c539b91f</th>\n",
       "      <td>False</td>\n",
       "      <td>{'input': 'Sirens of Titan', 'constraint': 't'}</td>\n",
       "      <td>Here is a poem about Sirens of Titan without ...</td>\n",
       "      <td>{'constraint': 't'}</td>\n",
       "    </tr>\n",
       "    <tr>\n",
       "      <th>c741b1e2-2ca1-43c4-b12e-396df95e6f7e</th>\n",
       "      <td>False</td>\n",
       "      <td>{'input': 'planet earth', 'constraint': 'e'}</td>\n",
       "      <td>Our orb spins through space so vast, \\nIts la...</td>\n",
       "      <td>{'constraint': 'e'}</td>\n",
       "    </tr>\n",
       "    <tr>\n",
       "      <th>b191a1b4-3dda-4ccc-91f6-8948cbd11153</th>\n",
       "      <td>False</td>\n",
       "      <td>{'input': 'vikings', 'constraint': 'v'}</td>\n",
       "      <td>Here is a poem about vikings without using th...</td>\n",
       "      <td>{'constraint': 'v'}</td>\n",
       "    </tr>\n",
       "    <tr>\n",
       "      <th>dbb29f2a-9d55-4b10-bf11-c01c2121935d</th>\n",
       "      <td>False</td>\n",
       "      <td>{'input': 'roses', 'constraint': 'o'}</td>\n",
       "      <td>Here is a poem about roses without using the ...</td>\n",
       "      <td>{'constraint': 'o'}</td>\n",
       "    </tr>\n",
       "  </tbody>\n",
       "</table>\n",
       "</div>"
      ],
      "text/plain": [
       "                                      ConstraintEvaluator  \\\n",
       "f9fad700-f624-4fd1-bc02-93b6c539b91f                False   \n",
       "c741b1e2-2ca1-43c4-b12e-396df95e6f7e                False   \n",
       "b191a1b4-3dda-4ccc-91f6-8948cbd11153                False   \n",
       "dbb29f2a-9d55-4b10-bf11-c01c2121935d                False   \n",
       "\n",
       "                                                                                input  \\\n",
       "f9fad700-f624-4fd1-bc02-93b6c539b91f  {'input': 'Sirens of Titan', 'constraint': 't'}   \n",
       "c741b1e2-2ca1-43c4-b12e-396df95e6f7e     {'input': 'planet earth', 'constraint': 'e'}   \n",
       "b191a1b4-3dda-4ccc-91f6-8948cbd11153          {'input': 'vikings', 'constraint': 'v'}   \n",
       "dbb29f2a-9d55-4b10-bf11-c01c2121935d            {'input': 'roses', 'constraint': 'o'}   \n",
       "\n",
       "                                                                                 output  \\\n",
       "f9fad700-f624-4fd1-bc02-93b6c539b91f   Here is a poem about Sirens of Titan without ...   \n",
       "c741b1e2-2ca1-43c4-b12e-396df95e6f7e   Our orb spins through space so vast, \\nIts la...   \n",
       "b191a1b4-3dda-4ccc-91f6-8948cbd11153   Here is a poem about vikings without using th...   \n",
       "dbb29f2a-9d55-4b10-bf11-c01c2121935d   Here is a poem about roses without using the ...   \n",
       "\n",
       "                                                reference  \n",
       "f9fad700-f624-4fd1-bc02-93b6c539b91f  {'constraint': 't'}  \n",
       "c741b1e2-2ca1-43c4-b12e-396df95e6f7e  {'constraint': 'e'}  \n",
       "b191a1b4-3dda-4ccc-91f6-8948cbd11153  {'constraint': 'v'}  \n",
       "dbb29f2a-9d55-4b10-bf11-c01c2121935d  {'constraint': 'o'}  "
      ]
     },
     "execution_count": 8,
     "metadata": {},
     "output_type": "execute_result"
    }
   ],
   "source": [
    "test_results.to_dataframe()"
   ]
  },
  {
   "cell_type": "markdown",
   "id": "fbb7ff41-d1a2-4c92-8c63-803a0cc34b9c",
   "metadata": {},
   "source": [
    "If you want to fetch the feedback and examples for a historic test project, you can use the SDK:"
   ]
  },
  {
   "cell_type": "code",
   "execution_count": 9,
   "id": "33a1c081-7cd6-408f-949d-f6897f4baf3c",
   "metadata": {
    "tags": []
   },
   "outputs": [],
   "source": [
    "# Can be any previous test projects\n",
    "test_project = test_results[\"project_name\"]"
   ]
  },
  {
   "cell_type": "code",
   "execution_count": 10,
   "id": "b4426821-bae0-4702-86e9-c5d7bbaceb20",
   "metadata": {
    "tags": []
   },
   "outputs": [
    {
     "data": {
      "text/html": [
       "<div>\n",
       "<style scoped>\n",
       "    .dataframe tbody tr th:only-of-type {\n",
       "        vertical-align: middle;\n",
       "    }\n",
       "\n",
       "    .dataframe tbody tr th {\n",
       "        vertical-align: top;\n",
       "    }\n",
       "\n",
       "    .dataframe thead th {\n",
       "        text-align: right;\n",
       "    }\n",
       "</style>\n",
       "<table border=\"1\" class=\"dataframe\">\n",
       "  <thead>\n",
       "    <tr style=\"text-align: right;\">\n",
       "      <th></th>\n",
       "      <th>example_id</th>\n",
       "      <th>input</th>\n",
       "      <th>constraint</th>\n",
       "      <th>output</th>\n",
       "      <th>ConstraintEvaluator.score</th>\n",
       "      <th>ConstraintEvaluator.comment</th>\n",
       "      <th>reference</th>\n",
       "    </tr>\n",
       "  </thead>\n",
       "  <tbody>\n",
       "    <tr>\n",
       "      <th>0</th>\n",
       "      <td>dbb29f2a-9d55-4b10-bf11-c01c2121935d</td>\n",
       "      <td>roses</td>\n",
       "      <td>o</td>\n",
       "      <td>Here is a poem about roses without using the ...</td>\n",
       "      <td>0.0</td>\n",
       "      <td>prediction contains the letter o</td>\n",
       "      <td>{'constraint': 'o'}</td>\n",
       "    </tr>\n",
       "    <tr>\n",
       "      <th>1</th>\n",
       "      <td>b191a1b4-3dda-4ccc-91f6-8948cbd11153</td>\n",
       "      <td>vikings</td>\n",
       "      <td>v</td>\n",
       "      <td>Here is a poem about vikings without using th...</td>\n",
       "      <td>0.0</td>\n",
       "      <td>prediction contains the letter v</td>\n",
       "      <td>{'constraint': 'v'}</td>\n",
       "    </tr>\n",
       "    <tr>\n",
       "      <th>2</th>\n",
       "      <td>c741b1e2-2ca1-43c4-b12e-396df95e6f7e</td>\n",
       "      <td>planet earth</td>\n",
       "      <td>e</td>\n",
       "      <td>Our orb spins through space so vast, \\nIts la...</td>\n",
       "      <td>0.0</td>\n",
       "      <td>prediction contains the letter e</td>\n",
       "      <td>{'constraint': 'e'}</td>\n",
       "    </tr>\n",
       "    <tr>\n",
       "      <th>3</th>\n",
       "      <td>f9fad700-f624-4fd1-bc02-93b6c539b91f</td>\n",
       "      <td>Sirens of Titan</td>\n",
       "      <td>t</td>\n",
       "      <td>Here is a poem about Sirens of Titan without ...</td>\n",
       "      <td>0.0</td>\n",
       "      <td>prediction contains the letter t</td>\n",
       "      <td>{'constraint': 't'}</td>\n",
       "    </tr>\n",
       "  </tbody>\n",
       "</table>\n",
       "</div>"
      ],
      "text/plain": [
       "                             example_id            input constraint  \\\n",
       "0  dbb29f2a-9d55-4b10-bf11-c01c2121935d            roses          o   \n",
       "1  b191a1b4-3dda-4ccc-91f6-8948cbd11153          vikings          v   \n",
       "2  c741b1e2-2ca1-43c4-b12e-396df95e6f7e     planet earth          e   \n",
       "3  f9fad700-f624-4fd1-bc02-93b6c539b91f  Sirens of Titan          t   \n",
       "\n",
       "                                              output  \\\n",
       "0   Here is a poem about roses without using the ...   \n",
       "1   Here is a poem about vikings without using th...   \n",
       "2   Our orb spins through space so vast, \\nIts la...   \n",
       "3   Here is a poem about Sirens of Titan without ...   \n",
       "\n",
       "   ConstraintEvaluator.score       ConstraintEvaluator.comment  \\\n",
       "0                        0.0  prediction contains the letter o   \n",
       "1                        0.0  prediction contains the letter v   \n",
       "2                        0.0  prediction contains the letter e   \n",
       "3                        0.0  prediction contains the letter t   \n",
       "\n",
       "             reference  \n",
       "0  {'constraint': 'o'}  \n",
       "1  {'constraint': 'v'}  \n",
       "2  {'constraint': 'e'}  \n",
       "3  {'constraint': 't'}  "
      ]
     },
     "execution_count": 10,
     "metadata": {},
     "output_type": "execute_result"
    }
   ],
   "source": [
    "import pandas as pd\n",
    "\n",
    "runs = client.list_runs(project_name=test_project, execution_order=1)\n",
    "\n",
    "df = pd.DataFrame(\n",
    "    [\n",
    "        {\n",
    "            \"example_id\": r.reference_example_id,\n",
    "            **r.inputs,\n",
    "            **(r.outputs or {}),\n",
    "            **{\n",
    "                k: v\n",
    "                for f in client.list_feedback(run_ids=[r.id])\n",
    "                for k, v in [\n",
    "                    (f\"{f.key}.score\", f.score),\n",
    "                    (f\"{f.key}.comment\", f.comment),\n",
    "                ]\n",
    "            },\n",
    "            \"reference\": client.read_example(r.reference_example_id).outputs,\n",
    "        }\n",
    "        for r in runs\n",
    "    ]\n",
    ")\n",
    "df"
   ]
  },
  {
   "cell_type": "markdown",
   "id": "eba511e2-c9ec-4268-b655-5163fa882086",
   "metadata": {},
   "source": [
    "## Conclusion\n",
    "\n",
    "In this example we showed how to download feedback and examples from a test project. You can directly use the result object from the run or use the SDK to fetch the results and feedback.\n",
    "Use this to analyze further or to programmatically add result information to your existing reports."
   ]
  },
  {
   "cell_type": "code",
   "execution_count": null,
   "id": "0f637c05-80e7-43be-b44e-2a337139a183",
   "metadata": {},
   "outputs": [],
   "source": []
  }
 ],
 "metadata": {
  "kernelspec": {
   "display_name": "Python 3 (ipykernel)",
   "language": "python",
   "name": "python3"
  },
  "language_info": {
   "codemirror_mode": {
    "name": "ipython",
    "version": 3
   },
   "file_extension": ".py",
   "mimetype": "text/x-python",
   "name": "python",
   "nbconvert_exporter": "python",
   "pygments_lexer": "ipython3",
   "version": "3.11.2"
  }
 },
 "nbformat": 4,
 "nbformat_minor": 5
}
