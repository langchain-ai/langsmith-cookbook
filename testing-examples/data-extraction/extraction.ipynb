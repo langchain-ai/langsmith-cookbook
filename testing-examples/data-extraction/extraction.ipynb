{
 "cells": [
  {
   "cell_type": "code",
   "execution_count": 3,
   "id": "69bfce74-21b7-4acd-8bd6-2f51547b4f41",
   "metadata": {},
   "outputs": [
    {
     "name": "stdout",
     "output_type": "stream",
     "text": [
      "x labelled_contracts/\n",
      "x labelled_contracts/clauses_contracts.tar.gz\n",
      "x labelled_contracts/elements_contracts.tar.gz\n"
     ]
    }
   ],
   "source": [
    "!tar -xvf labelled_contracts.tar.gz"
   ]
  },
  {
   "cell_type": "code",
   "execution_count": 1,
   "id": "71d996fe-f8a6-4103-8c48-657262c90119",
   "metadata": {},
   "outputs": [],
   "source": [
    "import uuid\n",
    "\n",
    "unique_id = uuid.uuid4()"
   ]
  },
  {
   "cell_type": "code",
   "execution_count": null,
   "id": "2e876984-2d95-4dd4-bc65-229749b96d1c",
   "metadata": {},
   "outputs": [],
   "source": [
    "# "
   ]
  },
  {
   "cell_type": "code",
   "execution_count": null,
   "id": "e66b2576-9216-4e01-a11e-b85c84ba615c",
   "metadata": {},
   "outputs": [],
   "source": [
    "import json\n",
    "\n",
    "with open(\"data.json\") as f:\n",
    "    data = json.load(f)"
   ]
  },
  {
   "cell_type": "code",
   "execution_count": 2,
   "id": "d577af5c-5321-4be9-93db-fbcbdf6abfc8",
   "metadata": {},
   "outputs": [],
   "source": [
    "from langsmith import Client\n",
    "\n",
    "client = Client()\n",
    "dataset_name = f\"bionlp-{unique_id}\"\n",
    "dataset = client.create_dataset(dataset_name=dataset_name)\n",
    "client.create_examples(\n",
    "    inputs=[row[\"inputs\"] for row in data],\n",
    "    outputs=[{k: json.dumps(v) for k, v in row[\"outputs\"].items()} for row in data],\n",
    "    dataset_id=dataset.id,\n",
    ")"
   ]
  },
  {
   "cell_type": "code",
   "execution_count": null,
   "id": "c782048d-c150-4c0e-854d-9bdb1623e2dd",
   "metadata": {},
   "outputs": [],
   "source": [
    "from langsmith import Client\n",
    "\n",
    "client = Client()\n",
    "run_id = next(client.list_runs(project_name=\"default\")).id"
   ]
  },
  {
   "cell_type": "markdown",
   "id": "8ee95461-4c49-4e2d-85ad-80832564f5bb",
   "metadata": {},
   "source": [
    "# Define chain"
   ]
  },
  {
   "cell_type": "code",
   "execution_count": null,
   "id": "98964774-1c9f-4d01-882b-46c5ea4f418f",
   "metadata": {},
   "outputs": [],
   "source": [
    "from langchain.chains import create_extraction_chain\n",
    "from langchain.chat_models import ChatOpenAI\n",
    "\n",
    "# Schema\n",
    "schema = {\n",
    "    \"properties\": {\n",
    "        \"text\": {\"type\": \"string\"},\n",
    "        \"semantic_type_id\": {\n",
    "            \"title\": \"Semantic Type Id\",\n",
    "            \"anyOf\": [\n",
    "                {\"enum\": [\"GeneOrGeneProduct\"], \"type\": \"string\"},\n",
    "                {\"enum\": [\"CellLine\"], \"type\": \"string\"},\n",
    "                {\"enum\": [\"ChemicalEntity\"], \"type\": \"string\"},\n",
    "                {\"enum\": [\"SequenceVariant\"], \"type\": \"string\"},\n",
    "                {\"enum\": [\"OrganismTaxon\"], \"type\": \"string\"},\n",
    "                {\"enum\": [\"DiseaseOrPhenotypicFeature\"], \"type\": \"string\"},\n",
    "            ],\n",
    "        },\n",
    "    },\n",
    "    \"required\": [\"text\", \"semantic_type_id\"],\n",
    "}\n",
    "\n",
    "# Create Chain\n",
    "llm = ChatOpenAI(temperature=0, model=\"gpt-3.5-turbo\")\n",
    "chain = create_extraction_chain(schema, llm)"
   ]
  },
  {
   "cell_type": "markdown",
   "id": "cfa7723b-7de9-4937-93fc-3cade17c97f9",
   "metadata": {},
   "source": [
    "## Evaluate"
   ]
  },
  {
   "cell_type": "code",
   "execution_count": null,
   "id": "3990c9c4-d62f-44d1-8bb4-85c598a91ab1",
   "metadata": {},
   "outputs": [],
   "source": [
    "from langchain.evaluation.parsing.base import (\n",
    "    JsonListAccuracyEvaluator,\n",
    "    JsonListF1Evaluator,\n",
    "    JsonListIoUEvaluator,\n",
    "    JsonListPrecisionEvaluator,\n",
    "    JsonListRecallEvaluator,\n",
    ")\n",
    "\n",
    "evaluators = [\n",
    "    e()\n",
    "    for e in [\n",
    "        JsonListIoUEvaluator,\n",
    "        JsonListF1Evaluator,\n",
    "        JsonListPrecisionEvaluator,\n",
    "        JsonListAccuracyEvaluator,\n",
    "        JsonListRecallEvaluator,\n",
    "    ]\n",
    "]"
   ]
  },
  {
   "cell_type": "code",
   "execution_count": null,
   "id": "d1604cab-b145-4fe9-aad1-9f382f680661",
   "metadata": {},
   "outputs": [],
   "source": [
    "from langchain import smith\n",
    "from langsmith.evaluation import EvaluationResult, RunEvaluator\n",
    "\n",
    "\n",
    "class CustomEvaluator(RunEvaluator):\n",
    "    def evaluate_run(self, run, example):\n",
    "        return EvaluationResult(key=\"Foo\", score=1)\n",
    "\n",
    "\n",
    "evaluation = smith.RunEvalConfig(\n",
    "    evaluators=[\"qa\"], custom_evaluators=[CustomEvaluator()]\n",
    ")"
   ]
  },
  {
   "cell_type": "code",
   "execution_count": null,
   "id": "bbd3edd4-7f20-4fb6-98d5-d779c4cf7aaa",
   "metadata": {},
   "outputs": [],
   "source": [
    "def my_cool_chain(the_input):\n",
    "    return \"I am the greatest\"\n",
    "\n",
    "\n",
    "test_results = smith.run_on_dataset(\n",
    "    dataset_name=dataset_name,\n",
    "    llm_or_chain_factory=my_cool_chain,\n",
    "    client=client,\n",
    "    evaluation=evaluation,\n",
    "    # concurrency_level=0,\n",
    ")"
   ]
  },
  {
   "cell_type": "code",
   "execution_count": 9,
   "id": "85d936a2-8cff-406a-811e-f053ffb56f7e",
   "metadata": {},
   "outputs": [
    {
     "name": "stdout",
     "output_type": "stream",
     "text": [
      "Prompt[81349] + Completion[194] = 81543\n"
     ]
    }
   ],
   "source": [
    "test_project = \"openai.gpt-4-qa[evaluator=qa] - Carb-IE-Test CORRECT - 02d9f257\"\n",
    "project = client.read_project(project_name=test_project)\n",
    "print(\n",
    "    f\"Prompt[{project.prompt_tokens}] + Completion[{project.completion_tokens}] = {project.total_tokens}\"\n",
    ")"
   ]
  },
  {
   "cell_type": "code",
   "execution_count": 14,
   "id": "ca9f553d-c3f3-4afa-b4e1-27bf540f7cef",
   "metadata": {},
   "outputs": [],
   "source": [
    "tokens = [\n",
    "    {\n",
    "        \"completion_tokens\": run.completion_tokens,\n",
    "        \"prompt_tokens\": run.prompt_tokens,\n",
    "        \"total_tokens\": run.total_tokens,\n",
    "    }\n",
    "    for run in client.list_runs(\n",
    "        project_name=test_project,\n",
    "        run_type=\"llm\",\n",
    "    )\n",
    "]"
   ]
  }
 ],
 "metadata": {
  "kernelspec": {
   "display_name": "Python 3 (ipykernel)",
   "language": "python",
   "name": "python3"
  },
  "language_info": {
   "codemirror_mode": {
    "name": "ipython",
    "version": 3
   },
   "file_extension": ".py",
   "mimetype": "text/x-python",
   "name": "python",
   "nbconvert_exporter": "python",
   "pygments_lexer": "ipython3",
   "version": "3.11.2"
  }
 },
 "nbformat": 4,
 "nbformat_minor": 5
}
